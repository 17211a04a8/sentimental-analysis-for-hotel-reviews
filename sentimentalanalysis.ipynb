{
 "cells": [
  {
   "cell_type": "markdown",
   "metadata": {},
   "source": [
    "                "
   ]
  },
  {
   "cell_type": "code",
   "execution_count": 47,
   "metadata": {},
   "outputs": [],
   "source": [
    "#importing packages\n",
    "import pandas as pd\n",
    "import numpy as np\n",
    "import re\n",
    "import string\n",
    "import contractions\n",
    "import unicodedata\n",
    "import nltk\n",
    "import spacy\n",
    "import sklearn\n",
    "import matplotlib.pyplot as plt\n",
    "import en_core_web_sm\n",
    "from sklearn.naive_bayes import MultinomialNB\n",
    "from sklearn.metrics import classification_report\n",
    "from sklearn.linear_model import LinearRegression\n",
    "from sklearn.metrics import accuracy_score"
   ]
  },
  {
   "cell_type": "code",
   "execution_count": 3,
   "metadata": {},
   "outputs": [],
   "source": [
    "#loading the test and train data\n",
    "df=pd.read_csv(r\"C:\\Users\\user 1\\Downloads\\train.csv\")\n",
    "test=pd.read_csv(r\"C:\\Users\\user 1\\Downloads\\test.csv\")"
   ]
  },
  {
   "cell_type": "code",
   "execution_count": 4,
   "metadata": {},
   "outputs": [
    {
     "data": {
      "text/html": [
       "<div>\n",
       "<style scoped>\n",
       "    .dataframe tbody tr th:only-of-type {\n",
       "        vertical-align: middle;\n",
       "    }\n",
       "\n",
       "    .dataframe tbody tr th {\n",
       "        vertical-align: top;\n",
       "    }\n",
       "\n",
       "    .dataframe thead th {\n",
       "        text-align: right;\n",
       "    }\n",
       "</style>\n",
       "<table border=\"1\" class=\"dataframe\">\n",
       "  <thead>\n",
       "    <tr style=\"text-align: right;\">\n",
       "      <th></th>\n",
       "      <th>ID</th>\n",
       "      <th>Silver</th>\n",
       "      <th>Status</th>\n",
       "      <th>Trusted Reviews</th>\n",
       "      <th>Last Reviewed On</th>\n",
       "      <th>Violation</th>\n",
       "      <th>Place</th>\n",
       "      <th>Review</th>\n",
       "      <th>Sentiment</th>\n",
       "      <th>Sentiment_Target</th>\n",
       "    </tr>\n",
       "  </thead>\n",
       "  <tbody>\n",
       "    <tr>\n",
       "      <th>0</th>\n",
       "      <td>679455653</td>\n",
       "      <td>False</td>\n",
       "      <td>finalized</td>\n",
       "      <td>3</td>\n",
       "      <td>21-02-2015 00:36</td>\n",
       "      <td>1.0\\r0.6667\\r0.6667</td>\n",
       "      <td>Jaipur</td>\n",
       "      <td>I'm not a huge Tea Post lover, but I've been t...</td>\n",
       "      <td>0.011398</td>\n",
       "      <td>Negative</td>\n",
       "    </tr>\n",
       "    <tr>\n",
       "      <th>1</th>\n",
       "      <td>679455654</td>\n",
       "      <td>False</td>\n",
       "      <td>finalized</td>\n",
       "      <td>3</td>\n",
       "      <td>21-02-2015 00:27</td>\n",
       "      <td>1</td>\n",
       "      <td>Jaipur</td>\n",
       "      <td>Terrible customer service. ÃŽÂ¾I came in at 9:...</td>\n",
       "      <td>0.012321</td>\n",
       "      <td>Negative</td>\n",
       "    </tr>\n",
       "    <tr>\n",
       "      <th>2</th>\n",
       "      <td>679455655</td>\n",
       "      <td>False</td>\n",
       "      <td>finalized</td>\n",
       "      <td>3</td>\n",
       "      <td>21-02-2015 00:26</td>\n",
       "      <td>1.0\\r1.0</td>\n",
       "      <td>Jaipur</td>\n",
       "      <td>First they \"lost\" my order, actually they gave...</td>\n",
       "      <td>0.571920</td>\n",
       "      <td>Neutral</td>\n",
       "    </tr>\n",
       "    <tr>\n",
       "      <th>3</th>\n",
       "      <td>679455656</td>\n",
       "      <td>False</td>\n",
       "      <td>finalized</td>\n",
       "      <td>3</td>\n",
       "      <td>21-02-2015 00:27</td>\n",
       "      <td>0.6667</td>\n",
       "      <td>Jaipur</td>\n",
       "      <td>I see I'm not the only one giving 1 star. Only...</td>\n",
       "      <td>0.256876</td>\n",
       "      <td>Negative</td>\n",
       "    </tr>\n",
       "    <tr>\n",
       "      <th>4</th>\n",
       "      <td>679455657</td>\n",
       "      <td>False</td>\n",
       "      <td>finalized</td>\n",
       "      <td>3</td>\n",
       "      <td>21-02-2015 00:27</td>\n",
       "      <td>1</td>\n",
       "      <td>Jaipur</td>\n",
       "      <td>Well, it's Tea Post's, so you know what the fo...</td>\n",
       "      <td>0.082520</td>\n",
       "      <td>Negative</td>\n",
       "    </tr>\n",
       "  </tbody>\n",
       "</table>\n",
       "</div>"
      ],
      "text/plain": [
       "          ID  Silver     Status  Trusted Reviews  Last Reviewed On  \\\n",
       "0  679455653   False  finalized                3  21-02-2015 00:36   \n",
       "1  679455654   False  finalized                3  21-02-2015 00:27   \n",
       "2  679455655   False  finalized                3  21-02-2015 00:26   \n",
       "3  679455656   False  finalized                3  21-02-2015 00:27   \n",
       "4  679455657   False  finalized                3  21-02-2015 00:27   \n",
       "\n",
       "             Violation   Place  \\\n",
       "0  1.0\\r0.6667\\r0.6667  Jaipur   \n",
       "1                    1  Jaipur   \n",
       "2             1.0\\r1.0  Jaipur   \n",
       "3               0.6667  Jaipur   \n",
       "4                    1  Jaipur   \n",
       "\n",
       "                                              Review  Sentiment  \\\n",
       "0  I'm not a huge Tea Post lover, but I've been t...   0.011398   \n",
       "1  Terrible customer service. ÃŽÂ¾I came in at 9:...   0.012321   \n",
       "2  First they \"lost\" my order, actually they gave...   0.571920   \n",
       "3  I see I'm not the only one giving 1 star. Only...   0.256876   \n",
       "4  Well, it's Tea Post's, so you know what the fo...   0.082520   \n",
       "\n",
       "  Sentiment_Target  \n",
       "0         Negative  \n",
       "1         Negative  \n",
       "2          Neutral  \n",
       "3         Negative  \n",
       "4         Negative  "
      ]
     },
     "execution_count": 4,
     "metadata": {},
     "output_type": "execute_result"
    }
   ],
   "source": [
    "df.head()"
   ]
  },
  {
   "cell_type": "code",
   "execution_count": 5,
   "metadata": {},
   "outputs": [
    {
     "data": {
      "text/plain": [
       "ID                   0\n",
       "Silver               0\n",
       "Status               0\n",
       "Trusted Reviews      0\n",
       "Last Reviewed On     0\n",
       "Violation           39\n",
       "Place                0\n",
       "Review               0\n",
       "Sentiment            0\n",
       "Sentiment_Target     0\n",
       "dtype: int64"
      ]
     },
     "execution_count": 5,
     "metadata": {},
     "output_type": "execute_result"
    }
   ],
   "source": [
    "#getting the values of null value rows sum for training data\n",
    "df.isnull().sum()"
   ]
  },
  {
   "cell_type": "code",
   "execution_count": 6,
   "metadata": {},
   "outputs": [
    {
     "data": {
      "text/plain": [
       "ID                   0\n",
       "Silver               0\n",
       "Status               0\n",
       "Trusted Reviews      0\n",
       "Last Reviewed On     0\n",
       "Violation           15\n",
       "Place               87\n",
       "Review               0\n",
       "Sentiment            0\n",
       "Target_Class         0\n",
       "dtype: int64"
      ]
     },
     "execution_count": 6,
     "metadata": {},
     "output_type": "execute_result"
    }
   ],
   "source": [
    "#getting the values of null value rows sum for test data\n",
    "test.isnull().sum()"
   ]
  },
  {
   "cell_type": "code",
   "execution_count": 7,
   "metadata": {},
   "outputs": [
    {
     "data": {
      "text/plain": [
       "1010"
      ]
     },
     "execution_count": 7,
     "metadata": {},
     "output_type": "execute_result"
    }
   ],
   "source": [
    "len(df)"
   ]
  },
  {
   "cell_type": "code",
   "execution_count": 8,
   "metadata": {},
   "outputs": [
    {
     "data": {
      "text/plain": [
       "(1010, 10)"
      ]
     },
     "execution_count": 8,
     "metadata": {},
     "output_type": "execute_result"
    }
   ],
   "source": [
    "df.shape"
   ]
  },
  {
   "cell_type": "code",
   "execution_count": 9,
   "metadata": {},
   "outputs": [
    {
     "data": {
      "text/plain": [
       "515"
      ]
     },
     "execution_count": 9,
     "metadata": {},
     "output_type": "execute_result"
    }
   ],
   "source": [
    "len(test)"
   ]
  },
  {
   "cell_type": "code",
   "execution_count": 10,
   "metadata": {},
   "outputs": [
    {
     "data": {
      "text/plain": [
       "(515, 10)"
      ]
     },
     "execution_count": 10,
     "metadata": {},
     "output_type": "execute_result"
    }
   ],
   "source": [
    "test.shape"
   ]
  },
  {
   "cell_type": "code",
   "execution_count": 11,
   "metadata": {},
   "outputs": [],
   "source": [
    "#removing the null value rows from the training data\n",
    "df.dropna(inplace=True)"
   ]
  },
  {
   "cell_type": "code",
   "execution_count": 12,
   "metadata": {},
   "outputs": [
    {
     "data": {
      "text/plain": [
       "971"
      ]
     },
     "execution_count": 12,
     "metadata": {},
     "output_type": "execute_result"
    }
   ],
   "source": [
    "len(df)"
   ]
  },
  {
   "cell_type": "code",
   "execution_count": 13,
   "metadata": {},
   "outputs": [],
   "source": [
    "#removing the null value rows from the testing data\n",
    "test.dropna(inplace=True)"
   ]
  },
  {
   "cell_type": "code",
   "execution_count": 14,
   "metadata": {},
   "outputs": [
    {
     "data": {
      "text/plain": [
       "414"
      ]
     },
     "execution_count": 14,
     "metadata": {},
     "output_type": "execute_result"
    }
   ],
   "source": [
    "len(test)"
   ]
  },
  {
   "cell_type": "code",
   "execution_count": 15,
   "metadata": {},
   "outputs": [
    {
     "data": {
      "text/plain": [
       "(414, 10)"
      ]
     },
     "execution_count": 15,
     "metadata": {},
     "output_type": "execute_result"
    }
   ],
   "source": [
    "test.shape"
   ]
  },
  {
   "cell_type": "code",
   "execution_count": 16,
   "metadata": {},
   "outputs": [
    {
     "data": {
      "text/plain": [
       "Negative    612\n",
       "Positive    187\n",
       "Neutral     172\n",
       "Name: Sentiment_Target, dtype: int64"
      ]
     },
     "execution_count": 16,
     "metadata": {},
     "output_type": "execute_result"
    }
   ],
   "source": [
    "#getting all the classes from the target in train data\n",
    "df['Sentiment_Target'].value_counts()"
   ]
  },
  {
   "cell_type": "code",
   "execution_count": 17,
   "metadata": {},
   "outputs": [
    {
     "data": {
      "text/plain": [
       "Negative    258\n",
       "Positive     96\n",
       "Neutral      60\n",
       "Name: Target_Class, dtype: int64"
      ]
     },
     "execution_count": 17,
     "metadata": {},
     "output_type": "execute_result"
    }
   ],
   "source": [
    "#getting all the classes from the target in test data\n",
    "test['Target_Class'].value_counts()"
   ]
  },
  {
   "cell_type": "code",
   "execution_count": 18,
   "metadata": {},
   "outputs": [
    {
     "name": "stdout",
     "output_type": "stream",
     "text": [
      "<class 'pandas.core.frame.DataFrame'>\n",
      "Int64Index: 971 entries, 0 to 1009\n",
      "Data columns (total 10 columns):\n",
      "ID                  971 non-null int64\n",
      "Silver              971 non-null bool\n",
      "Status              971 non-null object\n",
      "Trusted Reviews     971 non-null int64\n",
      "Last Reviewed On    971 non-null object\n",
      "Violation           971 non-null object\n",
      "Place               971 non-null object\n",
      "Review              971 non-null object\n",
      "Sentiment           971 non-null float64\n",
      "Sentiment_Target    971 non-null object\n",
      "dtypes: bool(1), float64(1), int64(2), object(6)\n",
      "memory usage: 76.8+ KB\n"
     ]
    }
   ],
   "source": [
    "df.info()"
   ]
  },
  {
   "cell_type": "code",
   "execution_count": 19,
   "metadata": {},
   "outputs": [
    {
     "name": "stdout",
     "output_type": "stream",
     "text": [
      "<class 'pandas.core.frame.DataFrame'>\n",
      "Int64Index: 414 entries, 0 to 514\n",
      "Data columns (total 10 columns):\n",
      "ID                  414 non-null int64\n",
      "Silver              414 non-null bool\n",
      "Status              414 non-null object\n",
      "Trusted Reviews     414 non-null int64\n",
      "Last Reviewed On    414 non-null object\n",
      "Violation           414 non-null object\n",
      "Place               414 non-null object\n",
      "Review              414 non-null object\n",
      "Sentiment           414 non-null float64\n",
      "Target_Class        414 non-null object\n",
      "dtypes: bool(1), float64(1), int64(2), object(6)\n",
      "memory usage: 32.7+ KB\n"
     ]
    }
   ],
   "source": [
    "test.info()"
   ]
  },
  {
   "cell_type": "code",
   "execution_count": 20,
   "metadata": {},
   "outputs": [],
   "source": [
    "#dropping the unwanted columns from the training data\n",
    "df.drop(columns=['Silver','Status','Violation','Last Reviewed On','Place'],inplace=True)"
   ]
  },
  {
   "cell_type": "code",
   "execution_count": 21,
   "metadata": {},
   "outputs": [],
   "source": [
    "#dropping the unwanted columns from the testing data\n",
    "test.drop(columns=['Silver','Status','Violation','Last Reviewed On','Place'],inplace=True)"
   ]
  },
  {
   "cell_type": "code",
   "execution_count": 22,
   "metadata": {},
   "outputs": [
    {
     "data": {
      "text/html": [
       "<div>\n",
       "<style scoped>\n",
       "    .dataframe tbody tr th:only-of-type {\n",
       "        vertical-align: middle;\n",
       "    }\n",
       "\n",
       "    .dataframe tbody tr th {\n",
       "        vertical-align: top;\n",
       "    }\n",
       "\n",
       "    .dataframe thead th {\n",
       "        text-align: right;\n",
       "    }\n",
       "</style>\n",
       "<table border=\"1\" class=\"dataframe\">\n",
       "  <thead>\n",
       "    <tr style=\"text-align: right;\">\n",
       "      <th></th>\n",
       "      <th>ID</th>\n",
       "      <th>Trusted Reviews</th>\n",
       "      <th>Review</th>\n",
       "      <th>Sentiment</th>\n",
       "      <th>Target_Class</th>\n",
       "    </tr>\n",
       "  </thead>\n",
       "  <tbody>\n",
       "    <tr>\n",
       "      <th>0</th>\n",
       "      <td>679456683</td>\n",
       "      <td>3</td>\n",
       "      <td>I have not had the same bad luck as other Yelp...</td>\n",
       "      <td>0.877415</td>\n",
       "      <td>Positive</td>\n",
       "    </tr>\n",
       "    <tr>\n",
       "      <th>1</th>\n",
       "      <td>679456684</td>\n",
       "      <td>3</td>\n",
       "      <td>Check your order before you drive off. Always ...</td>\n",
       "      <td>0.133207</td>\n",
       "      <td>Negative</td>\n",
       "    </tr>\n",
       "    <tr>\n",
       "      <th>2</th>\n",
       "      <td>679456685</td>\n",
       "      <td>3</td>\n",
       "      <td>After reading the other reviews, I realized my...</td>\n",
       "      <td>0.539689</td>\n",
       "      <td>Neutral</td>\n",
       "    </tr>\n",
       "    <tr>\n",
       "      <th>3</th>\n",
       "      <td>679456686</td>\n",
       "      <td>3</td>\n",
       "      <td>I don't like this place at all, It is always d...</td>\n",
       "      <td>0.027984</td>\n",
       "      <td>Negative</td>\n",
       "    </tr>\n",
       "    <tr>\n",
       "      <th>4</th>\n",
       "      <td>679456687</td>\n",
       "      <td>3</td>\n",
       "      <td>I love Tea PostI had 5 ice cream cones once. N...</td>\n",
       "      <td>0.863003</td>\n",
       "      <td>Positive</td>\n",
       "    </tr>\n",
       "  </tbody>\n",
       "</table>\n",
       "</div>"
      ],
      "text/plain": [
       "          ID  Trusted Reviews  \\\n",
       "0  679456683                3   \n",
       "1  679456684                3   \n",
       "2  679456685                3   \n",
       "3  679456686                3   \n",
       "4  679456687                3   \n",
       "\n",
       "                                              Review  Sentiment Target_Class  \n",
       "0  I have not had the same bad luck as other Yelp...   0.877415     Positive  \n",
       "1  Check your order before you drive off. Always ...   0.133207     Negative  \n",
       "2  After reading the other reviews, I realized my...   0.539689      Neutral  \n",
       "3  I don't like this place at all, It is always d...   0.027984     Negative  \n",
       "4  I love Tea PostI had 5 ice cream cones once. N...   0.863003     Positive  "
      ]
     },
     "execution_count": 22,
     "metadata": {},
     "output_type": "execute_result"
    }
   ],
   "source": [
    "test.head()"
   ]
  },
  {
   "cell_type": "code",
   "execution_count": 23,
   "metadata": {},
   "outputs": [
    {
     "data": {
      "text/html": [
       "<div>\n",
       "<style scoped>\n",
       "    .dataframe tbody tr th:only-of-type {\n",
       "        vertical-align: middle;\n",
       "    }\n",
       "\n",
       "    .dataframe tbody tr th {\n",
       "        vertical-align: top;\n",
       "    }\n",
       "\n",
       "    .dataframe thead th {\n",
       "        text-align: right;\n",
       "    }\n",
       "</style>\n",
       "<table border=\"1\" class=\"dataframe\">\n",
       "  <thead>\n",
       "    <tr style=\"text-align: right;\">\n",
       "      <th></th>\n",
       "      <th>ID</th>\n",
       "      <th>Trusted Reviews</th>\n",
       "      <th>Review</th>\n",
       "      <th>Sentiment</th>\n",
       "      <th>Sentiment_Target</th>\n",
       "    </tr>\n",
       "  </thead>\n",
       "  <tbody>\n",
       "    <tr>\n",
       "      <th>0</th>\n",
       "      <td>679455653</td>\n",
       "      <td>3</td>\n",
       "      <td>I'm not a huge Tea Post lover, but I've been t...</td>\n",
       "      <td>0.011398</td>\n",
       "      <td>Negative</td>\n",
       "    </tr>\n",
       "    <tr>\n",
       "      <th>1</th>\n",
       "      <td>679455654</td>\n",
       "      <td>3</td>\n",
       "      <td>Terrible customer service. ÃŽÂ¾I came in at 9:...</td>\n",
       "      <td>0.012321</td>\n",
       "      <td>Negative</td>\n",
       "    </tr>\n",
       "    <tr>\n",
       "      <th>2</th>\n",
       "      <td>679455655</td>\n",
       "      <td>3</td>\n",
       "      <td>First they \"lost\" my order, actually they gave...</td>\n",
       "      <td>0.571920</td>\n",
       "      <td>Neutral</td>\n",
       "    </tr>\n",
       "    <tr>\n",
       "      <th>3</th>\n",
       "      <td>679455656</td>\n",
       "      <td>3</td>\n",
       "      <td>I see I'm not the only one giving 1 star. Only...</td>\n",
       "      <td>0.256876</td>\n",
       "      <td>Negative</td>\n",
       "    </tr>\n",
       "    <tr>\n",
       "      <th>4</th>\n",
       "      <td>679455657</td>\n",
       "      <td>3</td>\n",
       "      <td>Well, it's Tea Post's, so you know what the fo...</td>\n",
       "      <td>0.082520</td>\n",
       "      <td>Negative</td>\n",
       "    </tr>\n",
       "  </tbody>\n",
       "</table>\n",
       "</div>"
      ],
      "text/plain": [
       "          ID  Trusted Reviews  \\\n",
       "0  679455653                3   \n",
       "1  679455654                3   \n",
       "2  679455655                3   \n",
       "3  679455656                3   \n",
       "4  679455657                3   \n",
       "\n",
       "                                              Review  Sentiment  \\\n",
       "0  I'm not a huge Tea Post lover, but I've been t...   0.011398   \n",
       "1  Terrible customer service. ÃŽÂ¾I came in at 9:...   0.012321   \n",
       "2  First they \"lost\" my order, actually they gave...   0.571920   \n",
       "3  I see I'm not the only one giving 1 star. Only...   0.256876   \n",
       "4  Well, it's Tea Post's, so you know what the fo...   0.082520   \n",
       "\n",
       "  Sentiment_Target  \n",
       "0         Negative  \n",
       "1         Negative  \n",
       "2          Neutral  \n",
       "3         Negative  \n",
       "4         Negative  "
      ]
     },
     "execution_count": 23,
     "metadata": {},
     "output_type": "execute_result"
    }
   ],
   "source": [
    "df.head()"
   ]
  },
  {
   "cell_type": "code",
   "execution_count": 24,
   "metadata": {},
   "outputs": [
    {
     "name": "stderr",
     "output_type": "stream",
     "text": [
      "[nltk_data] Downloading package stopwords to C:\\Users\\user\n",
      "[nltk_data]     1\\AppData\\Roaming\\nltk_data...\n",
      "[nltk_data]   Package stopwords is already up-to-date!\n",
      "[nltk_data] Downloading package wordnet to C:\\Users\\user\n",
      "[nltk_data]     1\\AppData\\Roaming\\nltk_data...\n",
      "[nltk_data]   Package wordnet is already up-to-date!\n",
      "[nltk_data] Downloading package punkt to C:\\Users\\user\n",
      "[nltk_data]     1\\AppData\\Roaming\\nltk_data...\n",
      "[nltk_data]   Package punkt is already up-to-date!\n"
     ]
    }
   ],
   "source": [
    "#removing the specialcharacters,converting into lowercase,applying contractions,removing stopwords\n",
    "from nltk.stem.porter import*\n",
    "from nltk.corpus import stopwords\n",
    "from nltk.corpus import wordnet\n",
    "nltk.download('stopwords')\n",
    "from nltk.tokenize import word_tokenize\n",
    "import nltk.stem \n",
    "from nltk.stem import WordNetLemmatizer\n",
    "nltk.download('wordnet')\n",
    "nltk.download('punkt')\n",
    "#l=WordNetLemmatizer()\n",
    "p_stemmer=PorterStemmer()\n",
    "stop_words=set(stopwords.words('english'))\n",
    "\n",
    "\n",
    "\n",
    "\n",
    "def clean(t):\n",
    "    t=t.lower()\n",
    "    t=re.sub('\\[.*?\\]','',t)\n",
    "    t=contractions.fix(t,0)\n",
    "    t=re.sub('[%s]' % re.escape(string.punctuation),'',t)\n",
    "    t = unicodedata.normalize('NFKD', t).encode('ascii', 'ignore').decode('utf-8', 'ignore')\n",
    "    t=re.sub('\\w*\\d\\w*','',t)\n",
    "    t=word_tokenize(t)\n",
    "    stop_words=set(stopwords.words(\"english\"))\n",
    "    t=[word for word in t if word not in stop_words]\n",
    "    #t=[l.lemmatize(word) for word in t]\n",
    "    #spacy.load(\"en_core_web_sm\")\n",
    "    #import en_core_web_sm\n",
    "    #nlp = en_core_web_sm.load()\n",
    "    #nlp=spacy.load('en')\n",
    "    #nlp = spacy.load('en_core_web_sm', disable = ['parser','ner','tagger'])\n",
    "    #d=spacy.tokens.Doc(nlp.vocab,words=t\n",
    "    #t=[nlp(word) for word in t ]\n",
    "    t=[p_stemmer.stem(word) for word in t]\n",
    "               \n",
    "    return t\n",
    "cl=lambda x:clean(x)\n"
   ]
  },
  {
   "cell_type": "code",
   "execution_count": 25,
   "metadata": {},
   "outputs": [],
   "source": [
    "#applying the function for training data\n",
    "df['CleanReview']=pd.DataFrame(df.Review.apply(clean))\n"
   ]
  },
  {
   "cell_type": "code",
   "execution_count": 26,
   "metadata": {},
   "outputs": [],
   "source": [
    "#applying the function for testing data\n",
    "test['CleanReview']=pd.DataFrame(test.Review.apply(clean))"
   ]
  },
  {
   "cell_type": "code",
   "execution_count": 27,
   "metadata": {},
   "outputs": [
    {
     "name": "stderr",
     "output_type": "stream",
     "text": [
      "[nltk_data] Downloading package averaged_perceptron_tagger to\n",
      "[nltk_data]     C:\\Users\\user 1\\AppData\\Roaming\\nltk_data...\n",
      "[nltk_data]   Package averaged_perceptron_tagger is already up-to-\n",
      "[nltk_data]       date!\n"
     ]
    },
    {
     "data": {
      "text/plain": [
       "True"
      ]
     },
     "execution_count": 27,
     "metadata": {},
     "output_type": "execute_result"
    }
   ],
   "source": [
    "nltk.download('averaged_perceptron_tagger')"
   ]
  },
  {
   "cell_type": "code",
   "execution_count": 28,
   "metadata": {},
   "outputs": [],
   "source": [
    "#function to get the nouns\n",
    "def nouns(t):\n",
    "    is_noun = lambda pos: pos[:2] == 'NN'\n",
    "# do the nlp stuff\n",
    "    #tokenized = nltk.word_tokenize(lines)\n",
    "    noun = [word for (word, pos) in nltk.pos_tag(t) if is_noun(pos)] \n",
    "    \n",
    "\n",
    "    return noun\n",
    "\n"
   ]
  },
  {
   "cell_type": "code",
   "execution_count": 29,
   "metadata": {},
   "outputs": [],
   "source": [
    "#extracting the nouns from training data\n",
    "df['TopNouns']=pd.DataFrame(df.CleanReview.apply(nouns))"
   ]
  },
  {
   "cell_type": "code",
   "execution_count": 30,
   "metadata": {},
   "outputs": [],
   "source": [
    "#extracting the nouns from testing data\n",
    "test['TopNouns']=pd.DataFrame(test.CleanReview.apply(nouns))"
   ]
  },
  {
   "cell_type": "code",
   "execution_count": 31,
   "metadata": {},
   "outputs": [
    {
     "data": {
      "text/html": [
       "<div>\n",
       "<style scoped>\n",
       "    .dataframe tbody tr th:only-of-type {\n",
       "        vertical-align: middle;\n",
       "    }\n",
       "\n",
       "    .dataframe tbody tr th {\n",
       "        vertical-align: top;\n",
       "    }\n",
       "\n",
       "    .dataframe thead th {\n",
       "        text-align: right;\n",
       "    }\n",
       "</style>\n",
       "<table border=\"1\" class=\"dataframe\">\n",
       "  <thead>\n",
       "    <tr style=\"text-align: right;\">\n",
       "      <th></th>\n",
       "      <th>ID</th>\n",
       "      <th>Trusted Reviews</th>\n",
       "      <th>Review</th>\n",
       "      <th>Sentiment</th>\n",
       "      <th>Sentiment_Target</th>\n",
       "      <th>CleanReview</th>\n",
       "      <th>TopNouns</th>\n",
       "    </tr>\n",
       "  </thead>\n",
       "  <tbody>\n",
       "    <tr>\n",
       "      <th>0</th>\n",
       "      <td>679455653</td>\n",
       "      <td>3</td>\n",
       "      <td>I'm not a huge Tea Post lover, but I've been t...</td>\n",
       "      <td>0.011398</td>\n",
       "      <td>Negative</td>\n",
       "      <td>[I, huge, tea, post, lover, I, better, one, fa...</td>\n",
       "      <td>[tea, post, lover, complet, order, everi, time...</td>\n",
       "    </tr>\n",
       "    <tr>\n",
       "      <th>1</th>\n",
       "      <td>679455654</td>\n",
       "      <td>3</td>\n",
       "      <td>Terrible customer service. ÃŽÂ¾I came in at 9:...</td>\n",
       "      <td>0.012321</td>\n",
       "      <td>Negative</td>\n",
       "      <td>[terribl, custom, servic, came, stood, front, ...</td>\n",
       "      <td>[terribl, custom, servic, regist, bother, anyt...</td>\n",
       "    </tr>\n",
       "    <tr>\n",
       "      <th>2</th>\n",
       "      <td>679455655</td>\n",
       "      <td>3</td>\n",
       "      <td>First they \"lost\" my order, actually they gave...</td>\n",
       "      <td>0.571920</td>\n",
       "      <td>Neutral</td>\n",
       "      <td>[first, lost, order, actual, gave, someon, one...</td>\n",
       "      <td>[order, someon, els, minut, figur, ask, ticket...</td>\n",
       "    </tr>\n",
       "    <tr>\n",
       "      <th>3</th>\n",
       "      <td>679455656</td>\n",
       "      <td>3</td>\n",
       "      <td>I see I'm not the only one giving 1 star. Only...</td>\n",
       "      <td>0.256876</td>\n",
       "      <td>Negative</td>\n",
       "      <td>[see, I, one, give, star, star, need, say]</td>\n",
       "      <td>[star, star]</td>\n",
       "    </tr>\n",
       "    <tr>\n",
       "      <th>4</th>\n",
       "      <td>679455657</td>\n",
       "      <td>3</td>\n",
       "      <td>Well, it's Tea Post's, so you know what the fo...</td>\n",
       "      <td>0.082520</td>\n",
       "      <td>Negative</td>\n",
       "      <td>[well, tea, post, know, food, review, reflect,...</td>\n",
       "      <td>[post, food, review, locat, countless, time, y...</td>\n",
       "    </tr>\n",
       "  </tbody>\n",
       "</table>\n",
       "</div>"
      ],
      "text/plain": [
       "          ID  Trusted Reviews  \\\n",
       "0  679455653                3   \n",
       "1  679455654                3   \n",
       "2  679455655                3   \n",
       "3  679455656                3   \n",
       "4  679455657                3   \n",
       "\n",
       "                                              Review  Sentiment  \\\n",
       "0  I'm not a huge Tea Post lover, but I've been t...   0.011398   \n",
       "1  Terrible customer service. ÃŽÂ¾I came in at 9:...   0.012321   \n",
       "2  First they \"lost\" my order, actually they gave...   0.571920   \n",
       "3  I see I'm not the only one giving 1 star. Only...   0.256876   \n",
       "4  Well, it's Tea Post's, so you know what the fo...   0.082520   \n",
       "\n",
       "  Sentiment_Target                                        CleanReview  \\\n",
       "0         Negative  [I, huge, tea, post, lover, I, better, one, fa...   \n",
       "1         Negative  [terribl, custom, servic, came, stood, front, ...   \n",
       "2          Neutral  [first, lost, order, actual, gave, someon, one...   \n",
       "3         Negative         [see, I, one, give, star, star, need, say]   \n",
       "4         Negative  [well, tea, post, know, food, review, reflect,...   \n",
       "\n",
       "                                            TopNouns  \n",
       "0  [tea, post, lover, complet, order, everi, time...  \n",
       "1  [terribl, custom, servic, regist, bother, anyt...  \n",
       "2  [order, someon, els, minut, figur, ask, ticket...  \n",
       "3                                       [star, star]  \n",
       "4  [post, food, review, locat, countless, time, y...  "
      ]
     },
     "execution_count": 31,
     "metadata": {},
     "output_type": "execute_result"
    }
   ],
   "source": [
    "df.head()"
   ]
  },
  {
   "cell_type": "code",
   "execution_count": 32,
   "metadata": {},
   "outputs": [
    {
     "data": {
      "text/html": [
       "<div>\n",
       "<style scoped>\n",
       "    .dataframe tbody tr th:only-of-type {\n",
       "        vertical-align: middle;\n",
       "    }\n",
       "\n",
       "    .dataframe tbody tr th {\n",
       "        vertical-align: top;\n",
       "    }\n",
       "\n",
       "    .dataframe thead th {\n",
       "        text-align: right;\n",
       "    }\n",
       "</style>\n",
       "<table border=\"1\" class=\"dataframe\">\n",
       "  <thead>\n",
       "    <tr style=\"text-align: right;\">\n",
       "      <th></th>\n",
       "      <th>ID</th>\n",
       "      <th>Trusted Reviews</th>\n",
       "      <th>Review</th>\n",
       "      <th>Sentiment</th>\n",
       "      <th>Target_Class</th>\n",
       "      <th>CleanReview</th>\n",
       "      <th>TopNouns</th>\n",
       "    </tr>\n",
       "  </thead>\n",
       "  <tbody>\n",
       "    <tr>\n",
       "      <th>0</th>\n",
       "      <td>679456683</td>\n",
       "      <td>3</td>\n",
       "      <td>I have not had the same bad luck as other Yelp...</td>\n",
       "      <td>0.877415</td>\n",
       "      <td>Positive</td>\n",
       "      <td>[bad, luck, yelper, drive, thru, quick, peopl,...</td>\n",
       "      <td>[luck, drive, thru, peopl, kid, work, window, ...</td>\n",
       "    </tr>\n",
       "    <tr>\n",
       "      <th>1</th>\n",
       "      <td>679456684</td>\n",
       "      <td>3</td>\n",
       "      <td>Check your order before you drive off. Always ...</td>\n",
       "      <td>0.133207</td>\n",
       "      <td>Negative</td>\n",
       "      <td>[check, order, drive, alway, miss, someth, mes...</td>\n",
       "      <td>[check, order, drive, alway, someth, mess, ord...</td>\n",
       "    </tr>\n",
       "    <tr>\n",
       "      <th>2</th>\n",
       "      <td>679456685</td>\n",
       "      <td>3</td>\n",
       "      <td>After reading the other reviews, I realized my...</td>\n",
       "      <td>0.539689</td>\n",
       "      <td>Neutral</td>\n",
       "      <td>[read, review, realiz, case, isol, fri, warm, ...</td>\n",
       "      <td>[review, case, isol, fri, warm, tabl, floor, d...</td>\n",
       "    </tr>\n",
       "    <tr>\n",
       "      <th>3</th>\n",
       "      <td>679456686</td>\n",
       "      <td>3</td>\n",
       "      <td>I don't like this place at all, It is always d...</td>\n",
       "      <td>0.027984</td>\n",
       "      <td>Negative</td>\n",
       "      <td>[like, place, alway, dirti, check, order, driv...</td>\n",
       "      <td>[place, order, drive, throughthey, textbook, r...</td>\n",
       "    </tr>\n",
       "    <tr>\n",
       "      <th>4</th>\n",
       "      <td>679456687</td>\n",
       "      <td>3</td>\n",
       "      <td>I love Tea PostI had 5 ice cream cones once. N...</td>\n",
       "      <td>0.863003</td>\n",
       "      <td>Positive</td>\n",
       "      <td>[love, tea, posti, ice, cream, cone, regret]</td>\n",
       "      <td>[tea, posti, ice, cream, cone, regret]</td>\n",
       "    </tr>\n",
       "  </tbody>\n",
       "</table>\n",
       "</div>"
      ],
      "text/plain": [
       "          ID  Trusted Reviews  \\\n",
       "0  679456683                3   \n",
       "1  679456684                3   \n",
       "2  679456685                3   \n",
       "3  679456686                3   \n",
       "4  679456687                3   \n",
       "\n",
       "                                              Review  Sentiment Target_Class  \\\n",
       "0  I have not had the same bad luck as other Yelp...   0.877415     Positive   \n",
       "1  Check your order before you drive off. Always ...   0.133207     Negative   \n",
       "2  After reading the other reviews, I realized my...   0.539689      Neutral   \n",
       "3  I don't like this place at all, It is always d...   0.027984     Negative   \n",
       "4  I love Tea PostI had 5 ice cream cones once. N...   0.863003     Positive   \n",
       "\n",
       "                                         CleanReview  \\\n",
       "0  [bad, luck, yelper, drive, thru, quick, peopl,...   \n",
       "1  [check, order, drive, alway, miss, someth, mes...   \n",
       "2  [read, review, realiz, case, isol, fri, warm, ...   \n",
       "3  [like, place, alway, dirti, check, order, driv...   \n",
       "4       [love, tea, posti, ice, cream, cone, regret]   \n",
       "\n",
       "                                            TopNouns  \n",
       "0  [luck, drive, thru, peopl, kid, work, window, ...  \n",
       "1  [check, order, drive, alway, someth, mess, ord...  \n",
       "2  [review, case, isol, fri, warm, tabl, floor, d...  \n",
       "3  [place, order, drive, throughthey, textbook, r...  \n",
       "4             [tea, posti, ice, cream, cone, regret]  "
      ]
     },
     "execution_count": 32,
     "metadata": {},
     "output_type": "execute_result"
    }
   ],
   "source": [
    "test.head()"
   ]
  },
  {
   "cell_type": "code",
   "execution_count": 33,
   "metadata": {},
   "outputs": [
    {
     "name": "stdout",
     "output_type": "stream",
     "text": [
      "{'tea': 826, 'post': 877, 'lover': 2, 'complet': 35, 'order': 845, 'everi': 50, 'time': 459, 'staff': 130, 'terribl': 42, 'nobodi': 4, 'care': 46, 'custom': 175, 'servic': 159, 'regist': 32, 'bother': 10, 'anyth': 24, 'help': 23, 'els': 44, 'food': 564, 'insid': 64, 'outsid': 24, 'window': 137, 'door': 42, 'greet': 15, 'way': 132, 'floor': 35, 'cover': 6, 'drop': 18, 'fill': 24, 'worker': 45, 'someon': 53, 'minut': 134, 'figur': 9, 'ask': 124, 'ticket': 6, 'asst': 1, 'mgr': 7, 'look': 114, 'incomplet': 7, 'check': 43, 'correctlysh': 1, 'act': 17, 'begrudgingli': 1, 'fact': 32, 'someth': 44, 'ticketso': 1, 'breakfast': 120, 'biscuit': 26, 'plattera': 1, 'woman': 19, 'approach': 7, 'identifi': 2, 'manag': 159, 'dress': 8, 'tshirt': 1, 'sweat': 1, 'pantssh': 1, 'heard': 3, 'happen': 6, 'itwel': 1, 'annoy': 15, 'incompet': 12, 'star': 85, 'review': 80, 'locat': 237, 'countless': 2, 'year': 59, 'fail': 3, 'end': 32, 'thing': 108, 'taker': 7, 'rude': 45, 'smile': 18, 'lot': 79, 'lip': 1, 'smack': 2, 'talk': 33, 'store': 50, 'benefit': 2, 'place': 320, 'area': 93, 'stop': 42, 'town': 11, 'strongli': 1, 'believ': 20, 'chanc': 22, 'satisfi': 3, 'everyon': 17, 'mani': 30, 'posit': 7, 'take': 14, 'pass': 12, 'griffin': 1, 'ga': 15, 'slowest': 4, 'franchis': 12, 'egg': 60, 'tp': 183, 'muffin': 31, 'chocol': 11, 'today': 38, 'primarili': 1, 'gosh': 1, 'exactli': 6, 'peopl': 149, 'morn': 15, 'guess': 40, 'mic': 1, 'hour': 76, 'possibl': 13, 'money': 51, 'word': 20, 'access': 3, 'road': 17, 'think': 19, 'shortag': 1, 'mickey': 12, 'ds': 32, 'piec': 27, 'kind': 29, 'blame': 4, 'day': 106, 'coffe': 131, 'decid': 39, 'thru': 193, 'drivethru': 76, 'car': 111, 'retrain': 1, 'tthe': 1, 'speakeroh': 1, 'einstein': 1, 'pour': 3, 'creamssugar': 1, 'ad': 6, 'cream': 53, 'sugar': 7, 'cup': 42, 'hello': 4, 'drive': 234, 'till': 6, 'postaft': 1, 'trip': 15, 'california': 1, 'wife': 21, 'bite': 21, 'eat': 106, 'home': 52, 'pull': 44, 'wait': 178, 'demand': 4, 'turn': 17, 'pc': 3, 'chicken': 82, 'nugget': 61, 'water': 27, 'drink': 47, 'soda': 26, 'littl': 25, 'pay': 62, 'receiv': 39, 'howev': 32, 'world': 23, 'unfriendli': 4, 'item': 45, 'month': 29, 'worth': 4, 'use': 64, 'chees': 61, 'hot': 1, 'dine': 19, 'room': 27, 'stack': 3, 'stone': 1, 'tv': 7, 'hln': 1, 'sometim': 28, 'sneak': 1, 'weekend': 4, 'budget': 3, 'mommi': 1, 'date': 3, 'reason': 57, 'wast': 8, 'flight': 4, 'arriv': 10, 'duaghter': 1, 'happi': 23, 'meal': 88, 'guy': 73, 'cell': 5, 'middl': 12, 'strike': 3, 'give': 7, 'boy': 8, 'toy': 10, 'stabd': 1, 'front': 36, 'spring': 4, 'see': 15, 'self': 6, 'brand': 7, 'blackmac': 1, 'tell': 30, 'truth': 2, 'busi': 78, 'metro': 1, 'jaipur': 4, 'strand': 1, 'motorist': 1, 'januari': 1, 'storm': 2, 'camp': 3, 'creek': 5, 'group': 10, 'restaur': 79, 'dollar': 33, 'street': 44, 'fil': 1, 'sinc': 50, 'lane': 11, 'function': 3, 'mess': 40, 'get': 156, 'inquir': 1, 'control': 9, 'confirm': 6, 'right': 31, 'windowthi': 1, 'night': 80, 'thur': 2, 'pet': 2, 'voic': 6, 'luxuri': 1, 'vehicl': 4, 'person': 64, 'charg': 36, 'spirit': 1, 'realli': 91, 'throuh': 1, 'frustrat': 4, 'luke': 1, 'niec': 1, 'woulf': 1, 'previou': 7, 'yelper': 4, 'alreadi': 13, 'state': 20, 'pretti': 56, 'cold': 16, 'serviceyeah': 1, 'line': 141, 'sit': 40, 'reheat': 7, 'ice': 94, 'catchor': 1, 'life': 26, 'hungri': 22, 'airport': 6, 'cruis': 1, 'pkwi': 3, 'absolut': 20, 'sweet': 9, 'qualiti': 22, 'joke': 10, 'associ': 4, 'syrup': 13, 'liquid': 1, 'diabet': 1, 'head': 21, 'tast': 51, 'perimet': 3, 'mall': 9, 'refil': 9, 'stori': 2, 'bypass': 1, 'chickfila': 2, 'eatmorechicken': 1, 'employe': 83, 'mocha': 22, 'sand': 1, 'salt': 12, 'flavor': 8, 'starbuck': 6, 'folk': 10, 'ghetto': 14, 'yesterday': 12, 'handicap': 2, 'park': 70, 'spot': 12, 'truck': 2, 'block': 23, 'space': 11, 'cashier': 34, 'shift': 11, 'comment': 14, 'orderhel': 1, 'price': 28, 'sadth': 1, 'receipt': 33, 'plan': 6, 'eventu': 1, 'cost': 15, 'increas': 1, 'feel': 23, 'hood': 3, 'hate': 29, 'thief': 1, 'mayb': 24, 'call': 62, 'probabl': 42, 'preciou': 2, 'visit': 70, 'dec': 1, 'pie': 27, 'fri': 147, 'deni': 3, 'problem': 50, 'bag': 58, 'grab': 31, 'xtra': 1, 'bucket': 3, 'tru': 1, 'reach': 8, 'cash': 21, 'chang': 45, 'thank': 24, 'boss': 2, 'websit': 4, 'ate': 7, 'side': 26, 'note': 9, 'tom': 1, 'nice': 8, 'play': 31, 'sticki': 4, 'video': 2, 'game': 20, 'kid': 63, 'parent': 5, 'potato': 1, 'warm': 9, 'week': 38, 'hash': 16, 'forget': 7, 'butter': 11, 'utinsil': 1, 'prompt': 2, 'inconsist': 3, 'jokedo': 1, 'prefer': 1, 'accur': 3, 'fault': 14, 'anyon': 9, 'woodstock': 1, 'ray': 3, 'crock': 1, 'invent': 3, 'therei': 2, 'learn': 9, 'zero': 2, 'freez': 3, 'soggi': 5, 'trash': 6, 'brew': 2, 'wth': 5, 'hundr': 1, 'differ': 24, 'numer': 3, 'countri': 6, 'notic': 1, 'seat': 19, 'crevic': 1, 'repeatedli': 4, 'brush': 1, 'hotcak': 4, 'prepar': 17, 'macdonald': 3, 'work': 179, 'whenev': 2, 'awesom': 4, 'studi': 1, 'remodel': 17, 'fairli': 3, 'spici': 16, 'chick': 2, 'disappoint': 17, 'wrap': 26, 'grill': 22, 'mix': 13, 'sauc': 56, 'dump': 9, 'hang': 17, 'southeast': 1, 'effici': 8, 'despit': 7, 'gener': 23, 'spew': 1, 'smog': 1, 'easi': 11, 'fixgood': 1, 'job': 48, 'horribl': 43, 'mile': 10, 'speak': 10, 'whatsoev': 2, 'respond': 7, 'dirti': 31, 'alway': 27, 'ridicul': 13, 'especi': 15, 'sort': 12, 'miss': 23, 'drip': 3, 'meat': 20, 'bun': 26, 'plain': 10, 'incorrect': 4, 'issu': 22, 'inconveni': 5, 'idiot': 7, 'bolt': 2, 'club': 8, 'gaspro': 1, 'conveni': 20, 'sausag': 33, 'subpar': 3, 'cook': 33, 'jelli': 3, 'packet': 19, 'complain': 19, 'jump': 3, 'fix': 11, 'detailstak': 1, 'fudg': 4, 'highway': 5, 'recommend': 6, 'trap': 3, 'northsid': 5, 'hospit': 11, 'option': 28, 'slightli': 7, 'vend': 1, 'machin': 22, 'dumpster': 1, 'humanitywork': 1, 'experi': 44, 'cafeteria': 3, 'rel': 11, 'stay': 13, 'therefor': 2, 'forc': 4, 'mostli': 5, 'sunda': 9, 'return': 14, 'enforc': 2, 'resolv': 1, 'avoid': 8, 'chain': 11, 'shock': 13, 'offer': 15, 'acknowledg': 4, 'obviou': 2, 'consid': 7, 'counter': 41, 'comprehens': 1, 'sens': 8, 'honestli': 9, 'paus': 2, 'reflect': 3, 'measur': 2, 'waswer': 1, 'toxic': 2, 'model': 1, 'transfer': 2, 'deliv': 7, 'wit': 3, 'behavior': 2, 'readili': 1, 'display': 5, 'relay': 2, 'bodi': 2, 'languag': 6, 'effort': 3, 'god': 5, 'question': 8, 'refer': 1, 'menu': 52, 'respons': 10, 'blank': 1, 'stare': 2, 'forbid': 1, 'separ': 7, 'occas': 8, 'spoonnapkinstraw': 1, 'pleas': 25, 'yike': 1, 'bloodon': 1, 'detail': 1, 'regardless': 2, 'pm': 6, 'filthi': 8, 'lift': 4, 'broom': 3, 'sweep': 2, 'garbag': 3, 'servicecook': 1, 'crud': 2, 'surround': 7, 'plastic': 5, 'case': 19, 'cooki': 4, 'dri': 16, 'grosswashdisinfect': 1, 'payment': 9, 'pad': 1, 'holder': 2, 'everywher': 5, 'spill': 6, 'atroci': 2, 'disgust': 22, 'feed': 8, 'ashamedaznorthsid': 1, 'wallow': 1, 'wall': 8, 'ignor': 7, 'suppli': 1, 'continu': 12, 'daili': 3, 'deliber': 1, 'dilig': 1, 'neg': 3, 'attitud': 21, 'famili': 15, 'friend': 27, 'react': 2, 'avail': 16, 'site': 6, 'reverber': 1, 'know': 4, 'idea': 12, 'tonight': 6, 'make': 17, 'drove': 9, 'fast': 15, 'branch': 4, 'come': 11, 'thrice': 1, 'deliveri': 1, 'bit': 38, 'dee': 4, 'beggar': 1, 'choosi': 1, 'pack': 18, 'choic': 13, 'hospitalfor': 1, 'docomplet': 1, 'rush': 18, 'clue': 3, 'merci': 1, 'captiv': 2, 'audienc': 1, 'transient': 4, 'visitor': 2, 'champth': 1, 'burger': 91, 'friendli': 37, 'bewar': 3, 'hand': 81, 'lid': 3, 'slit': 2, 'straw': 6, 'hell': 13, 'imagin': 4, 'finger': 3, 'super': 13, 'paint': 4, 'insert': 1, 'need': 42, 'nail': 2, 'shit': 2, 'underneath': 2, 'tool': 1, 'saw': 7, 'wipe': 5, 'runni': 2, 'pollut': 1, 'handa': 1, 'donald': 13, 'min': 27, 'refus': 6, 'nope': 2, 'valu': 13, 'appreci': 7, 'trend': 2, 'region': 1, 'pretend': 2, 'headach': 6, 'crappi': 6, 'skip': 2, 'everybodi': 4, 'todayy': 1, 'volum': 2, 'mean': 24, 'wrongand': 2, 'request': 22, 'steak': 1, 'bagel': 2, 'larg': 27, 'strawi': 1, 'salad': 12, 'healthi': 7, 'er': 1, 'earli': 8, 'depend': 3, 'slice': 14, 'doubl': 21, 'cheeseburg': 30, 'steal': 1, 'goodybad': 1, 'youyum': 1, 'correctli': 11, 'move': 29, 'quickli': 9, 'lunch': 40, 'good': 1, 'complaint': 18, 'corp': 3, 'file': 3, 'franchise': 5, 'coupon': 23, 'tabl': 30, 'shoe': 3, 'sever': 15, 'bacon': 25, 'muffini': 1, 'thoseso': 1, 'cours': 14, 'bisi': 1, 'srive': 1, 'bagi': 1, 'sayif': 1, 'blue': 6, 'mistak': 18, 'happenbut': 1, 'thruth': 1, 'wish': 6, 'traffic': 9, 'planet': 7, 'nauseat': 1, 'cesspool': 1, 'playground': 5, 'ass': 12, 'yeah': 8, 'overhaul': 1, 'level': 4, 'degreesso': 1, 'confus': 8, 'beauti': 1, 'sake': 2, 'ladi': 37, 'hope': 14, 'wors': 23, 'amount': 12, 'favor': 5, 'round': 2, 'golf': 1, 'tee': 1, 'energi': 1, 'mejust': 1, 'swipe': 1, 'credit': 10, 'card': 17, 'pancak': 6, 'scrambl': 3, 'patti': 15, 'buck': 6, 'cheap': 2, 'america': 5, 'start': 23, 'realiz': 15, 'ok': 13, 'brown': 4, 'contain': 4, 'consist': 17, 'curios': 2, 'web': 1, 'calori': 5, 'quarter': 25, 'pounder': 22, 'appl': 12, 'hamburg': 19, 'ya': 5, 'fat': 1, 'curri': 2, 'honda': 4, 'schedul': 2, 'mainten': 1, 'appoint': 2, 'dealership': 1, 'afternoon': 9, 'thought': 6, 'hold': 6, 'perhap': 3, 'sandwich': 53, 'bare': 10, 'melt': 4, 'readi': 13, 'tri': 58, 'kick': 3, 'spice': 1, 'interest': 14, 'serv': 30, 'hotter': 2, 'elsewher': 1, 'holi': 1, 'crap': 17, 'dude': 4, 'pickup': 5, 'walk': 41, 'windowand': 1, 'eggshel': 1, 'purchas': 6, 'specialti': 2, 'respect': 6, 'show': 14, 'face': 13, 'scam': 3, 'origin': 4, 'point': 39, 'lie': 7, 'mind': 11, 'argu': 12, 'simpli': 7, 'varieti': 4, 'resolut': 1, 'let': 24, 'alon': 5, 'pocket': 2, 'saniti': 1, 'afro': 1, 'pit': 2, 'initi': 2, 'repeat': 11, 'slowli': 2, 'size': 13, 'pain': 4, 'fluke': 2, 'ketchup': 29, 'condiment': 11, 'lint': 1, 'intercom': 9, 'transact': 4, 'girl': 39, 'mention': 11, 'f': 1, 'goal': 1, 'treatment': 2, 'part': 29, 'duti': 4, 'seeker': 1, 'top': 6, 'fli': 14, 'air': 5, 'menton': 1, 'hudson': 1, 'bridg': 4, 'fruit': 6, 'distanc': 4, 'hotel': 13, 'mewhen': 1, 'mac': 44, 'tangi': 3, 'orang': 4, 'moist': 4, 'seriou': 4, 'appar': 5, 'distinctli': 1, 'hairspray': 1, 'singl': 13, 'onion': 14, 'mushi': 2, 'sore': 1, 'mustard': 13, 'put': 3, 'peic': 1, 'tomorrow': 3, 'ha': 4, 'snack': 7, 'odd': 2, 'fight': 3, 'watch': 27, 'multipl': 4, 'freak': 3, 'read': 5, 'truli': 8, 'understaf': 1, 'everytim': 1, 'comfort': 4, 'hoppingnot': 1, 'bet': 4, 'music': 7, 'system': 14, 'sign': 38, 'bleach': 1, 'hair': 4, 'strawberri': 6, 'lemonad': 5, 'pump': 1, 'chocolatt': 2, 'nightafterdrink': 1, 'count': 19, 'particularli': 2, 'decatur': 1, 'creepydisturb': 1, 'regard': 1, 'patron': 6, 'student': 6, 'school': 18, 'druid': 1, 'camaraderi': 1, 'forev': 9, 'fish': 6, 'process': 10, 'tartar': 3, 'greasyjust': 1, 'prop': 1, 'cowork': 12, 'occasion': 5, 'goof': 1, 'suck': 12, 'type': 10, 'ghost': 1, 'pale': 1, 'somewher': 3, 'fructos': 1, 'corn': 2, 'aka': 1, 'dip': 10, 'meatless': 1, 'tponald': 13, 'bore': 1, 'definit': 9, 'stretch': 2, 'vanilla': 7, 'ye': 19, 'correct': 19, 'bf': 3, 'eyerol': 1, 'typic': 24, 'station': 21, 'oatmealwhen': 1, 'yummi': 3, 'matter': 18, 'simpl': 16, 'fanci': 6, 'crust': 1, 'combo': 7, 'octob': 1, 'beef': 4, 'qt': 1, 'bank': 4, 'account': 5, 'refund': 13, 'starla': 2, 'excus': 8, 'holiday': 5, 'man': 23, 'recogn': 3, 'inform': 12, 'gm': 1, 'train': 11, 'rate': 16, 'disapprov': 1, 'love': 19, 'commerci': 4, 'griddl': 3, 'rock': 10, 'creme': 1, 'healthscor': 1, 'equip': 1, 'guest': 2, 'ton': 7, 'technolog': 1, 'hwi': 2, 'claim': 6, 'promot': 2, 'advertis': 7, 'pitch': 2, 'king': 4, 'burrito': 14, 'anyhow': 1, 'run': 13, 'timer': 2, 'yep': 1, 'box': 20, 'smh': 1, 'pick': 20, 'restur': 1, 'somebodi': 3, 'togeth': 6, 'decent': 7, 'carri': 4, 'altern': 1, 'surpris': 6, 'tortur': 2, 'child': 7, 'shake': 15, 'light': 8, 'load': 3, 'topget': 1, 'asid': 4, 'distract': 2, 'slowi': 1, 'forgot': 5, 'frustratingthi': 1, 'postno': 1, 'troubl': 2, 'deal': 14, 'roach': 2, 'postwhat': 1, 'wow': 7, 'suffic': 1, 'chickfla': 1, 'studio': 3, 'movi': 8, 'spend': 3, 'theater': 2, 'stopi': 1, 'lack': 17, 'power': 13, 'outlet': 4, 'scatter': 1, 'quit': 18, 'deserv': 4, 'aok': 6, 'hey': 9, 'improv': 13, 'standard': 20, 'smell': 9, 'clearli': 9, 'theydonotcar': 1, 'cow': 2, 'doorclearli': 1, 'overwhelm': 1, 'hire': 12, 'elderli': 1, 'joy': 2, 'butonc': 1, 'toddler': 1, 'activ': 4, 'son': 12, 'john': 3, 'lacross': 1, 'gladiat': 1, 'teammat': 1, 'saturday': 1, 'row': 3, 'ma': 1, 'fool': 6, 'honey': 8, 'rout': 4, 'churchbut': 1, 'nearli': 2, 'imposs': 4, 'tween': 1, 'holcomb': 2, 'barnwel': 1, 'stuf': 2, 'decad': 1, 'individu': 6, 'handl': 9, 'fulli': 1, 'sunni': 1, 'sunday': 7, 'contact': 9, 'number': 37, 'fax': 1, 'fan': 15, 'morgan': 1, 'enwikipediaorgwikisua': 1, 'aand': 1, 'brekki': 3, 'sport': 1, 'team': 8, 'news': 4, 'letter': 4, 'media': 2, 'highli': 4, 'balanc': 2, 'neighbor': 2, 'admit': 4, 'milkshak': 11, 'vari': 2, 'focus': 2, 'disregard': 3, 'argument': 3, 'men': 5, 'gunfir': 1, 'center': 9, 'mass': 1, 'worri': 5, 'shotaft': 1, 'minuit': 1, 'didsur': 1, 'write': 1, 'express': 8, 'concern': 8, 'checker': 1, 'background': 2, 'convers': 7, 'windowsomeon': 1, 'threw': 5, 'say': 2, 'radio': 2, 'btch': 1, 'discourag': 1, 'fine': 3, 'appropri': 1, 'screw': 7, 'filet': 6, 'unsweet': 2, 'toast': 2, 'phone': 16, 'pig': 1, 'sti': 1, 'tipif': 1, 'jimmi': 1, 'carter': 2, 'blvd': 2, 'peachtre': 1, 'industri': 5, 'west': 2, 'entranc': 7, 'postsorath': 1, 'feet': 9, 'travel': 7, 'grub': 3, 'inconvenienc': 1, 'homethi': 1, 'cut': 6, 'hidden': 1, 'cove': 1, 'luck': 6, 'abl': 4, 'easili': 4, 'entranceexit': 1, 'egress': 1, 'special': 1, 'offit': 1, 'hassl': 1, 'ran': 2, 'product': 14, 'newer': 1, 'design': 9, 'blend': 1, 'smoothi': 10, 'accident': 2, 'email': 3, 'owner': 14, 'unapologet': 1, 'defend': 1, 'inspect': 2, 'monopoli': 3, 'testament': 1, 'name': 20, 'aw': 8, 'consum': 4, 'pushi': 1, 'book': 6, 'somehow': 2, 'foodtip': 1, 'stale': 6, 'compliment': 1, 'costum': 6, 'b': 6, 'meet': 3, 'c': 2, 'predict': 1, 'medium': 14, 'jeez': 1, 'hardli': 2, 'sticker': 2, 'zeke': 1, 'radiat': 1, 'edg': 1, 'crusti': 1, 'backthi': 1, 'dumbass': 2, 'mad': 4, 'bitch': 2, 'replac': 9, 'includ': 16, 'miser': 3, 'corpor': 26, 'charact': 4, 'knock': 4, 'hustl': 1, 'fuck': 4, 'co': 2, 'laugh': 4, 'rememb': 14, 'mayo': 18, 'tix': 1, 'goe': 14, 'noth': 1, 'husband': 13, 'extremley': 1, 'disorgan': 2, 'quick': 6, 'mom': 9, 'promptli': 2, 'drug': 6, 'addict': 2, 'plu': 14, 'throughdo': 1, 'retir': 1, 'hous': 1, 'becom': 3, 'agre': 6, 'vega': 10, 'sloppi': 1, 'hobo': 1, 'panhandl': 2, 'extent': 1, 'lol': 11, 'sub': 4, 'par': 3, 'munch': 3, 'health': 7, 'buy': 4, 'groceri': 1, 'section': 2, 'midnight': 5, 'coke': 20, 'neighborhood': 12, 'perfect': 3, 'pleasant': 1, 'unit': 1, 'speaker': 17, 'photo': 6, 'slu': 1, 'sooooo': 1, 'freakin': 2, 'urgenc': 1, 'temper': 1, 'base': 5, 'provid': 12, 'andor': 6, 'penni': 3, 'averag': 9, 'runofthemil': 2, 'coldthey': 1, 'corner': 7, 'parkand': 1, 'evil': 1, 'artist': 2, 'bigotsth': 1, 'goodfood': 1, 'drivethruwork': 1, 'badon': 1, 'board': 2, 'plainli': 1, 'w': 4, 'taxi': 1, 'dozen': 5, 'qrt': 1, 'subtot': 1, 'tax': 4, 'quibbl': 1, 'cent': 10, 'dubiou': 1, 'twenti': 1, 'boo': 2, 'hissth': 1, 'race': 3, 'sex': 2, 'nation': 3, 'law': 2, 'popul': 1, 'gender': 1, 'age': 4, 'data': 1, 'chart': 1, 'accord': 3, 'statist': 1, 'feder': 1, 'copypast': 1, 'thruwa': 1, 'sodagav': 1, 'find': 3, 'cone': 27, 'pictur': 11, 'attack': 2, 'clothingi': 1, 'microwav': 2, 'debat': 2, 'genuin': 2, 'none': 13, 'wonder': 11, 'attent': 14, 'step': 15, 'tothi': 1, 'lucki': 1, 'ground': 3, 'entir': 6, 'md': 2, 'mayonnais': 4, 'jellym': 1, 'assist': 2, 'reaction': 2, 'apolog': 15, 'brought': 1, 'send': 1, 'copi': 2, 'offic': 2, 'pure': 2, 'unreal': 1, 'mail': 1, 'obey': 1, 'shop': 8, 'strip': 11, 'zip': 1, 'compar': 6, 'upcom': 1, 'handoff': 1, 'driver': 4, 'qa': 1, 'hotbut': 1, 'mixtri': 1, 'substanc': 2, 'consumpt': 2, 'frame': 2, 'outstand': 1, 'port': 1, 'panda': 1, 'enstein': 1, 'coupl': 36, 'restraunt': 1, 'push': 6, 'june': 3, 'keep': 5, 'heart': 4, 'summerlin': 3, 'besid': 5, 'centerth': 1, 'overcook': 1, 'weirdi': 1, 'charleston': 2, 'close': 2, 'verifi': 1, 'profession': 7, 'oscar': 1, 'boycot': 1, 'boca': 2, 'daughter': 13, 'capabl': 1, 'tiem': 1, 'hop': 2, 'habanero': 4, 'caramel': 11, 'omen': 1, 'search': 2, 'pre': 1, 'bhorror': 1, 'zombievampirewerewolf': 1, 'viru': 1, 'logic': 1, 'explan': 1, 'transform': 1, 'tpumbassesi': 1, 'remind': 5, 'yield': 2, 'enter': 9, 'douchebag': 1, 'bmw': 1, 'answer': 8, 'bizarr': 1, 'sound': 6, 'drunk': 7, 'orson': 1, 'reveal': 2, 'morbid': 1, 'gigant': 2, 'eye': 15, 'horror': 1, 'immedi': 3, 'reeehhhhhhhhhhhhhh': 1, 'moment': 9, 'fear': 2, 'manrap': 1, 'planter': 1, 'escap': 2, 'await': 1, 'fate': 1, 'disturbingli': 1, 'tone': 2, 'rape': 1, 'latino': 1, 'arm': 3, 'miracl': 3, 'mid': 1, 'fck': 1, 'extrem': 6, 'regularli': 2, 'circl': 3, 'lobbi': 7, 'dread': 2, 'hurri': 8, 'speed': 4, 'thingsmayb': 1, 'rib': 9, 'thread': 1, 'legendari': 1, 'verdicti': 1, 'allblech': 1, 'bland': 5, 'courseand': 1, 'todaymi': 1, 'enjoy': 10, 'moneynot': 1, 'leav': 20, 'pathet': 4, 'danger': 4, 'abil': 1, 'specif': 12, 'produc': 5, 'everyth': 14, 'costco': 2, 'market': 2, 'lame': 3, 'inabl': 1, 'castup': 1, 'dr': 2, 'float': 1, 'sad': 4, 'exampl': 4, 'ondangerousdisgustingincorrectli': 1, 'angu': 6, 'mushroom': 3, 'teaspoon': 1, 'half': 20, 'pound': 1, 'ole': 1, 'district': 4, 'revamp': 1, 'vow': 2, 'lure': 2, 'whatev': 10, 'heck': 5, 'sarah': 1, 'import': 2, 'eveningsfood': 1, 'allif': 1, 'messi': 4, 'poss': 1, 'opt': 1, 'coz': 1, 'wtf': 7, 'honk': 1, 'feroci': 1, 'slowmot': 1, 'matrix': 1, 'effect': 1, 'dregg': 1, 'trust': 5, 'fund': 1, 'lesson': 4, 'parti': 2, 'blah': 2, 'redempt': 1, 'welcom': 5, 'rv': 2, 'choos': 7, 'infront': 1, 'boulder': 1, 'joker': 1, 'hit': 4, 'springsi': 1, 'herebecaus': 1, 'mine': 6, 'member': 7, 'overli': 2, 'teassunda': 1, 'cupthey': 1, 'flurri': 16, 'cupsnot': 1, 'sip': 3, 'waterit': 1, 'women': 8, 'wretchedon': 1, 'wasvand': 1, 'glass': 9, 'condon': 1, 'crazi': 8, 'creami': 1, 'junk': 3, 'rag': 2, 'liter': 12, 'wegg': 2, 'portion': 1, 'receivei': 1, 'reliabiltyout': 1, 'awhil': 4, 'milk': 2, 'drivingon': 1, 'napkin': 3, 'napkinthi': 1, 'advis': 1, 'frappucino': 1, 'juic': 6, 'essenti': 1, 'certainti': 1, 'exud': 1, 'core': 1, 'philosophi': 1, 'stock': 3, 'poorli': 4, 'oper': 3, 'maintain': 3, 'bathroom': 20, 'pair': 2, 'sock': 4, 'coat': 3, 'dirt': 2, 'rancid': 1, 'oil': 6, 'cafe': 6, 'juiceseri': 1, 'compani': 8, 'chat': 2, 'children': 9, 'moder': 1, 'jessica': 1, 'scream': 6, 'loud': 3, 'tray': 5, 'polit': 14, 'kinda': 8, 'impress': 9, 'kudo': 1, 'certainli': 7, 'carbon': 2, 'understand': 15, 'jack': 5, 'customersit': 1, 'homi': 1, 'agotp': 1, 'courseth': 1, 'oj': 3, 'waterpur': 1, 'rehydr': 1, 'atmcredit': 1, 'orderoh': 1, 'btwthe': 1, 'thirsti': 2, 'linemost': 1, 'companion': 2, 'onmist': 1, 'curiou': 2, 'layout': 1, 'challeng': 4, 'clinton': 1, 'welfar': 1, 'reform': 1, 'failurepeopl': 1, 'tpi': 2, 'skill': 3, 'racket': 1, 'fee': 1, 'businesssss': 1, 'corporationbuckscom': 1, 'shitti': 3, 'paper': 6, 'arch': 6, 'bulb': 1, 'punjabstyl': 1, 'buzz': 2, 'throttl': 1, 'slurpe': 1, 'vacat': 1, 'em': 2, 'engin': 1, 'dark': 1, 'cool': 7, 'stumbl': 1, 'casino': 2, 'beer': 5, 'expens': 5, 'appetit': 1, 'ginorm': 1, 'limit': 6, 'suit': 2, 'sat': 2, 'spars': 3, 'crumpl': 3, 'pornograph': 1, 'fall': 3, 'sleep': 3, 'lay': 1, 'christma': 2, 'demeanor': 1, 'starhowev': 1, 'encount': 4, 'teenag': 6, 'awkwardli': 1, 'stand': 12, 'exclaim': 2, 'irrit': 2, 'orderincompet': 1, 'decaf': 1, 'well': 7, 'crispi': 9, 'histori': 3, 'taco': 2, 'bell': 2, 'spread': 1, 'vibe': 2, 'managershift': 1, 'supervisor': 4, 'shoot': 1, 'indoor': 3, 'goodcould': 1, 'cardboard': 3, 'redrop': 1, 'fryer': 6, 'asham': 4, 'theya': 1, 'wantb': 1, 'foodd': 1, 'puke': 1, 'inexpens': 3, 'clarifi': 2, 'disgustingli': 1, 'facetofac': 2, 'pronounc': 2, 'repli': 5, 'style': 7, 'hockey': 1, 'puck': 1, 'burnt': 4, 'playplac': 6, 'nv': 1, 'winter': 4, 'wind': 1, 'scorch': 1, 'summer': 8, 'steam': 1, 'sister': 3, 'brother': 2, 'wear': 4, 'togo': 3, 'yarn': 1, 'lb': 1, 'grewup': 1, 'japan': 2, 'fire': 3, 'suburb': 1, 'iq': 1, 'maryland': 1, 'trop': 1, 'bright': 2, 'screen': 10, 'puzzl': 1, 'drivethruemploye': 1, 'burn': 11, 'renov': 4, 'tasti': 4, 'glanc': 1, 'windowr': 1, 'risk': 10, 'uniform': 1, 'hug': 1, 'belong': 1, 'oldveri': 1, 'crew': 13, 'cuti': 1, 'excitedli': 1, 'boytoy': 1, 'text': 3, 'explain': 3, 'lipscomb': 1, 'smith': 1, 'terriblef': 1, 'peco': 1, 'vall': 1, 'verd': 2, 'paseo': 1, 'reveiw': 1, 'endlessli': 1, 'stuff': 14, 'botch': 1, 'guarente': 1, 'meh': 2, 'sadli': 5, 'discust': 1, 'gson': 1, 'walmart': 5, 'resid': 2, 'stuffi': 1, 'go': 5, 'accent': 3, 'decidedli': 1, 'exec': 1, 'lunchtim': 1, 'patient': 2, 'motor': 1, 'wheelchair': 1, 'stinki': 2, 'homeless': 17, 'waterbut': 1, 'damn': 9, 'judg': 2, 'promo': 1, 'ofmor': 1, 'boggl': 1, 'press': 3, 'tortilla': 2, 'tomato': 1, 'runner': 1, 'courseat': 1, 'desk': 3, 'rees': 1, 'peanut': 1, 'fame': 1, 'eh': 4, 'whaddaya': 1, 'olivia': 1, 'properli': 3, 'delici': 6, 'limp': 1, 'pic': 2, 'proof': 4, 'travesti': 2, 'meatbal': 1, 'gravi': 1, 'buenoaft': 1, 'stride': 1, 'lightn': 1, 'beast': 1, 'peek': 1, 'shape': 1, 'hesit': 1, 'gameplan': 1, 'suppos': 11, 'iceberg': 2, 'lettuc': 8, 'lord': 2, 'darth': 1, 'vadernoooooooo': 1, 'gourmet': 2, 'fatti': 2, 'hotlin': 1, 'bhopal': 4, 'valley': 3, 'surprisingli': 3, 'cozi': 1, 'interior': 1, 'portrait': 1, 'dispar': 1, 'mahon': 1, 'period': 1, 'pace': 1, 'gadaam': 1, 'tpoubl': 11, 'bunch': 10, 'tire': 9, 'anoth': 3, 'non': 1, 'homeand': 1, 'ranch': 7, 'diamond': 9, 'compens': 1, 'effin': 1, 'curb': 1, 'rim': 1, 'chevron': 3, 'connect': 4, 'class': 1, 'tendenc': 2, 'orderedcas': 1, 'parfait': 7, 'fresh': 3, 'add': 4, 'list': 5, 'graveyard': 1, 'mighti': 1, 'manila': 1, 'philippin': 1, 'begin': 5, 'defi': 1, 'stapl': 2, 'dinner': 12, 'competit': 2, 'toe': 1, 'otherwis': 3, 'profit': 3, 'doubt': 2, 'bbq': 3, 'frape': 4, 'frap': 2, 'ensur': 1, 'ronald': 4, 'gang': 2, 'cherri': 1, 'coven': 1, 'treat': 10, 'replica': 1, 'famou': 1, 'resembl': 1, 'cartoon': 1, 'version': 1, 'bar': 6, 'que': 1, 'sesam': 3, 'seed': 2, 'sincer': 1, 'ernesto': 1, 'r': 7, 'nicer': 1, 'excel': 2, 'eitherthird': 1, 'jolli': 1, 'wrong': 1, 'mo': 1, 'nearbi': 4, 'sodatoday': 1, 'pepper': 1, 'artifici': 1, 'btw': 2, 'reader': 1, 'allergi': 1, 'lawyer': 1, 'grandpa': 1, 'nowthank': 1, 'cycl': 1, 'darkwoodmeetsquasistarbucksstyl': 1, 'suspend': 1, 'requir': 3, 'wipedown': 1, 'ride': 1, 'exacerb': 1, 'salti': 3, 'chatter': 1, 'minim': 2, 'filipino': 2, 'rest': 16, 'rainbow': 7, 'reciev': 1, 'ten': 7, 'chair': 4, 'hethey': 1, 'univers': 2, 'earn': 2, 'fourfiv': 1, 'tricki': 1, 'creamsugar': 2, 'splenda': 2, 'anymor': 11, 'kindli': 1, 'cowgirl': 1, 'mortifi': 1, 'swarm': 1, 'choc': 2, 'chip': 4, 'rightif': 1, 'jalapeno': 4, 'sure': 4, 'mother': 1, 'macanyway': 1, 'thingth': 1, 'crispysecond': 1, 'resort': 2, 'gotten': 6, 'constantli': 4, 'suggest': 1, 'etc': 1, 'royal': 1, 'blob': 1, 'lukewarm': 4, 'tini': 2, 'splash': 1, 'latt': 3, 'whip': 4, 'blankli': 1, 'servicei': 1, 'attempt': 6, 'sent': 1, 'shame': 11, 'reduc': 1, 'rang': 2, 'sale': 6, 'cordial': 1, 'insidebut': 1, 'wronghow': 1, 'starabsolut': 1, 'unwrap': 1, 'sandwichestoday': 1, 'n': 6, 'emth': 1, 'din': 4, 'eatingi': 1, 'outsidei': 1, 'percent': 2, 'carmel': 3, 'grade': 2, 'courteou': 3, 'undercook': 1, 'voila': 1, 'tasteless': 1, 'sorri': 7, 'fuel': 1, 'dash': 2, 'describ': 4, 'retriev': 1, 'pop': 2, 'cursori': 1, 'orbit': 1, 'fed': 1, 'andi': 1, 'exclam': 1, 'mark': 2, 'theirsbut': 1, 'starv': 3, 'ewww': 1, 'ewwwwthes': 1, 'oh': 4, 'babi': 6, 'wet': 1, 'sanit': 1, 'venu': 2, 'premium': 6, 'guarante': 3, 'fwi': 1, 'suprisingli': 1, 'hi': 2, 'reask': 1, 'metabol': 1, 'exercis': 1, 'speedi': 2, 'checkout': 1, 'greattast': 1, 'sporad': 1, 'lifestyl': 1, 'weight': 1, 'badass': 2, 'quilt': 1, 'cactu': 1, 'cacti': 1, 'sewn': 1, 'pin': 2, 'button': 2, 'x': 1, 'mayor': 1, 'kingdom': 1, 'tooi': 1, 'vintag': 2, 'artwork': 1, 'fountain': 4, 'weird': 3, 'electron': 3, 'slide': 2, 'intent': 3, 'retro': 1, 'flamingo': 2, 'debit': 3, 'retriv': 1, 'shoulder': 1, 'drawer': 1, 'cat': 1, 'pride': 3, 'viewther': 1, 'drunka': 1, 'timethi': 2, 'perk': 1, 'cop': 3, 'handcuf': 1, 'junki': 1, 'random': 2, 'purpl': 1, 'melon': 1, 'schizophren': 1, 'mensroom': 1, 'asleep': 1, 'cubicl': 1, 'wifi': 11, 'circu': 7, 'restroom': 12, 'tow': 9, 'hole': 5, 'innoc': 1, 'surveil': 1, 'prey': 1, 'tube': 1, 'mope': 2, 'toilet': 4, 'pot': 3, 'shut': 7, 'fiasco': 1, 'toooo': 1, 'approxim': 1, 'chaoticy': 1, 'counteri': 1, 'drinkth': 1, 'shirt': 3, 'mistaken': 1, 'rung': 1, 'joint': 3, 'altogeth': 1, 'orderli': 1, 'neat': 3, 'bebi': 1, 'aquarium': 2, 'wifithi': 1, 'goer': 1, 'entertain': 1, 'buffet': 2, 'breakfasti': 2, 'minutesoh': 1, 'rip': 5, 'foreignersi': 1, 'wrongat': 1, 'impound': 1, 'victim': 1, 'germani': 1, 'culinari': 2, 'meccaappar': 1, 'releas': 1, 'proport': 1, 'clean': 14, 'excerpt': 1, 'discoveri': 1, 'channel': 1, 'variou': 2, 'touchw': 1, 'stool': 1, 'blueberri': 1, 'hill': 1, 'attach': 1, 'counterwith': 1, 'flower': 1, 'leather': 1, 'pleather': 1, 'privat': 1, 'shout': 1, 'tpo': 2, 'loung': 1, 'lag': 1, 'girlfriend': 4, 'cab': 1, 'pj': 1, 'hilari': 2, 'vitamin': 1, 'ampl': 1, 'attract': 2, 'att': 1, 'plug': 4, 'build': 5, 'honolulu': 1, 'darn': 1, 'southwest': 3, 'past': 1, 'convent': 5, 'heliexpo': 1, 'shatter': 1, 'shot': 4, 'slower': 1, 'grandma': 1, 'event': 6, 'centerw': 1, 'bullet': 1, 'deco': 1, 'dislik': 1, 'irrespons': 1, 'skillet': 3, 'patienc': 3, 'haveh': 1, 'griddlesno': 1, 'trashi': 1, 'embassi': 1, 'hilton': 1, 'properti': 2, 'lemonadem': 1, 'greasi': 6, 'crisp': 3, 'statu': 2, 'dvd': 1, 'rental': 1, 'impressedthey': 1, 'bonu': 2, 'dispens': 3, 'spray': 2, 'asshol': 4, 'dalia': 1, 'muscl': 1, 'instanc': 2, 'manageablethi': 1, 'memor': 2, 'awfulth': 1, 'insist': 1, 'roll': 13, 'bug': 2, 'empti': 3, 'litter': 2, 'l': 1, 'retun': 1, 'crave': 3, 'chewi': 2, 'stomach': 3, 'ach': 2, 'bottom': 5, 'broiler': 1, 'cloth': 1, 'restaraunt': 1, 'evertweek': 1, 'spare': 1, 'beat': 3, 'bhopala': 1, 'fuss': 1, 'wellbravo': 1, 'caus': 1, 'disturb': 1, 'natur': 1, 'shituat': 1, 'atleast': 1, 'breath': 4, 'clock': 1, 'unprofession': 8, 'rant': 2, 'ohand': 1, 'amaz': 4, 'okay': 10, 'favorit': 5, 'accept': 1, 'postwel': 1, 'scott': 2, 'scare': 1, 'bottl': 5, 'sinhav': 1, 'fun': 4, 'yelp': 12, 'reviewhow': 1, 'offthestrip': 1, 'paradis': 1, 'rdsahara': 1, 'chevi': 1, 'boringtasteless': 1, 'gambl': 3, 'attir': 1, 'boot': 3, 'uncushion': 1, 'friesservic': 1, 'postsair': 1, 'condit': 1, 'court': 3, 'trusti': 1, 'hungov': 2, 'overpr': 3, 'kitchen': 6, 'stickyth': 1, 'experiencei': 1, 'emerg': 1, 'catch': 2, 'aunt': 1, 'hermayb': 1, 'raisin': 2, 'plump': 1, 'atyou': 1, 'dirtyonli': 1, 'restaurantnow': 1, 'enough': 1, 'toss': 2, 'stink': 1, 'christ': 1, 'almighti': 1, 'piti': 1, 'krispi': 2, 'kreme': 3, 'goesvisit': 1, 'oreo': 5, 'mm': 3, 'yum': 3, 'info': 1, 'icecream': 7, 'cornflak': 1, 'chuck': 1, 'twicesham': 1, 'ventur': 2, 'donut': 2, 'dun': 3, 'proce': 1, 'lock': 7, 'hubbi': 1, 'oatmeal': 2, 'dessert': 1, 'doughnut': 1, 'appeal': 4, 'goodif': 1, 'luxor': 1, 'nyni': 1, 'surli': 1, 'cheesi': 1, 'eateri': 2, 'mumbai': 2, 'chronicleshooray': 1, 'refillsi': 1, 'quench': 1, 'afford': 2, 'concret': 1, 'wander': 1, 'nutrit': 2, 'fraction': 1, 'postsy': 1, 'delux': 1, 'pounderno': 1, 'ditch': 1, 'friday': 4, 'candi': 1, 'one': 1, 'palm': 1, 'zak': 1, 'cinnamon': 2, 'cinnabun': 1, 'fluffi': 1, 'blehbad': 1, 'serviceand': 1, 'season': 1, 'shakesi': 1, 'directli': 5, 'stood': 2, 'plot': 1, 'lesser': 1, 'valueso': 1, 'twice': 1, 'exhibit': 1, 'herbst': 1, 'th': 1, 'hmfic': 1, 'hm': 1, 'hater': 1, 'mode': 1, 'punch': 1, 'reevalu': 2, 'decidedi': 1, 'chow': 1, 'doesaok': 1, 'mannais': 1, 'durango': 2, 'duh': 1, 'offens': 2, 'chili': 7, 'felt': 2, 'ppl': 4, 'meant': 2, 'kung': 1, 'pao': 1, 'dick': 1, 'gay': 1, 'micki': 4, 'crack': 7, 'gift': 2, 'anythingfin': 1, 'headset': 1, 'posti': 1, 'flip': 1, 'lunchtimei': 1, 'orderthen': 1, 'postthen': 1, 'speakeri': 1, 'cancel': 4, 'orderi': 1, 'magic': 1, 'metruth': 1, 'rule': 2, 'yea': 2, 'paranoid': 1, 'tick': 1, 'damp': 1, 'pickl': 6, 'jalapeatmao': 3, 'prank': 1, 'albertson': 1, 'windowwil': 1, 'playland': 2, 'spoon': 1, 'dish': 2, 'reservedli': 1, 'itthey': 1, 'ti': 1, 'shamrock': 4, 'kidsth': 1, 'advert': 1, 'break': 13, 'desir': 2, 'fastforward': 1, 'desper': 1, 'band': 1, 'berri': 1, 'mangopineappl': 1, 'refresh': 1, 'waterwhen': 1, 'cross': 5, 'contamin': 3, 'wayi': 1, 'womeni': 1, 'bless': 2, 'youi': 1, 'serviceth': 1, 'relationship': 1, 'guysupd': 1, 'mango': 1, 'pineappl': 1, 'di': 1, 'helpi': 1, 'alot': 1, 'servicethi': 1, 'partwo': 1, 'yell': 5, 'warn': 1, 'cont': 1, 'manger': 3, 'nazi': 1, 'reput': 1, 'lifetimebesid': 1, 'berat': 1, 'staffservic': 1, 'horrend': 3, 'opinion': 6, 'lunchdinn': 2, 'bench': 2, 'harleydavidson': 2, 'theme': 4, 'tidbitslet': 1, 'launch': 1, 'noodl': 1, 'premier': 1, 'test': 2, 'dishtp': 1, 'monthsth': 1, 'veget': 1, 'tap': 2, 'austria': 2, 'thereyousbas': 1, 'euro': 1, 'refeul': 1, 'rememberbottomlin': 1, 'sudden': 1, 'extra': 1, 'abund': 1, 'tweeker': 1, 'crackhead': 1, 'mop': 3, 'promis': 2, 'calm': 1, 'lazi': 3, 'feminin': 1, 'receptacl': 1, 'stall': 2, 'sewag': 1, 'sigh': 2, 'horseplay': 1, 'dumbest': 1, 'length': 7, 'convinc': 3, 'reluct': 1, 'bring': 3, 'mug': 1, 'invit': 1, 'attend': 1, 'maker': 1, 'hard': 1, 'oftenbut': 1, 'timesi': 1, 'miseri': 1, 'termin': 3, 'redbox': 2, 'cafatma': 1, 'frappatma': 1, 'welli': 2, 'teasi': 1, 'windowm': 1, 'hoursemploye': 1, 'windowlol': 1, 'second': 4, 'toler': 2, 'careless': 1, 'cmon': 3, 'wink': 2, 'id': 1, 'dudep': 1, 'intellig': 1, 'human': 1, 'sell': 7, 'tent': 1, 'prison': 1, 'arizonaliter': 1, 'soy': 1, 'mixtur': 1, 'filler': 1, 'pointless': 1, 'ftrtea': 1, 'thingtheir': 1, 'priceless': 1, 'structur': 1, 'doesi': 1, 'threewindow': 1, 'muffinworst': 1, 'substitut': 1, 'meoh': 1, 'shini': 1, 'bronz': 1, 'form': 2, 'pretendtato': 1, 'highschool': 1, 'colleg': 2, 'yup': 1, 'blast': 1, 'factori': 1, 'cray': 2, 'adorb': 1, 'e': 1, 'z': 1, 'wreck': 1, 'roadsid': 1, 'caught': 1, 'landscap': 2, 'hike': 1, 'temporarili': 1, 'beverag': 4, 'immacu': 1, 'electr': 2, 'plenti': 4, 'contemporari': 1, 'land': 1, 'eleg': 1, 'daniel': 1, 'craigslist': 1, 'livingsoci': 1, 'bum': 1, 'unapp': 1, 'credentialsi': 1, 'reject': 1, 'action': 2, 'makeov': 3, 'boost': 1, 'geeki': 1, 'imag': 1, 'appli': 2, 'chef': 1, 'passion': 1, 'fivestar': 1, 'mouthlik': 1, 'eaten': 2, 'regret': 3, 'grosshav': 1, 'yearsit': 1, 'stench': 1, 'ball': 6, 'yuk': 1, 'minti': 1, 'ahhhhh': 1, 'exagger': 3, 'bravo': 1, 'gf': 2, 'recov': 1, 'flu': 1, 'dang': 1, 'meth': 2, 'limpi': 1, 'wimpi': 1, 'carran': 1, 'loss': 1, 'judgement': 1, 'auto': 1, 'oo': 1, 'mountain': 1, 'north': 4, 'tpee': 2, 'hearti': 1, 'settl': 1, 'gossip': 2, 'klassi': 1, 'wise': 1, 'boyfriend': 5, 'sibl': 1, 'orderregardless': 1, 'jam': 1, 'max': 1, 'notpsstwant': 1, 'radiu': 1, 'color': 2, 'menumi': 1, 'goodplan': 1, 'everespeci': 1, 'leg': 2, 'sooo': 2, 'galleria': 1, 'doldrum': 1, 'dinnerit': 1, 'fulfil': 3, 'visitour': 1, 'hadaft': 1, 'prevail': 1, 'unlimit': 1, 'mallrat': 1, 'perfectli': 4, 'walkin': 1, 'ambassadori': 1, 'privileg': 1, 'freezer': 1, 'sensit': 1, 'carbsth': 1, 'shove': 2, 'hanker': 2, 'locationi': 1, 'trainingi': 1, 'fashion': 2, 'lousi': 1, 'sunset': 1, 'stephani': 1, 'cousin': 2, 'yearsif': 1, 'hunger': 1, 'satisfact': 1, 'ingredi': 2, 'carrot': 1, 'unlock': 1, 'heheh': 1, 'icefail': 1, 'rins': 1, 'witheredthi': 1, 'manuel': 1, 'incorrectli': 1, 'hide': 3, 'closest': 2, 'reserv': 1, 'contradict': 1, 'loath': 1, 'doesnt': 1, 'pray': 1, 'frapp': 3, 'beg': 7, 'hav': 1, 'spoke': 1, 'english': 2, 'righti': 2, 'remak': 1, 'inch': 1, 'unsanitari': 2, 'throw': 4, 'hung': 1, 'googl': 1, 'modernlook': 1, 'mho': 1, 'defeat': 2, 'purpos': 2, 'regularlyth': 1, 'fare': 3, 'fourstori': 1, 'explor': 1, 'littler': 1, 'realist': 1, 'climb': 1, 'apar': 1, 'poopi': 2, 'posh': 1, 'itmayb': 1, 'nightmar': 3, 'angri': 2, 'topi': 1, 'indulg': 1, 'heat': 6, 'lamp': 2, 'cake': 3, 'happenfast': 1, 'exhaust': 1, 'silli': 1, 'timeturn': 1, 'bagso': 1, 'displeas': 1, 'rightyeah': 1, 'client': 2, 'riversid': 1, 'jealou': 1, 'player': 1, 'mkay': 1, 'want': 5, 'sprite': 1, 'ss': 1, 'dumbfound': 1, 'lace': 1, 'heroin': 1, 'congrat': 1, 'satan': 1, 'offici': 2, 'sun': 1, 'shine': 1, 'spit': 1, 'indiffer': 2, 'courtesi': 2, 'squar': 3, 'iti': 2, 'punjab': 1, 'sandwichesdont': 1, 'answersbi': 1, 'spent': 2, 'toi': 1, 'chichen': 1, 'adult': 1, 'beater': 1, 'trade': 1, 'el': 1, 'crawl': 2, 'chocolateoh': 1, 'prerecord': 1, 'messag': 3, 'fizz': 1, 'loop': 1, 'secondari': 1, 'pressur': 1, 'aggrav': 1, 'redo': 1, 'foodthi': 1, 'loc': 1, 'twin': 1, 'soul': 1, 'sue': 1, 'wal': 1, 'mart': 1, 'repriev': 1, 'abram': 1, 'anywho': 1, 'match': 1, 'habit': 3, 'deuc': 1, 'doc': 1, 'redecor': 1, 'cleanli': 3, 'wrongth': 1, 'dryer': 3, 'rectifi': 1, 'towel': 1, 'nastyi': 1, 'bubbl': 1, 'sink': 2, 'firsti': 1, 'carethi': 1, 'grandson': 2, 'birthday': 1, 'hereth': 1, 'thereof': 3, 'seem': 2, 'hazardnot': 1, 'revisit': 1, 'luckili': 1, 'jaunt': 1, 'namesak': 1, 'establishmentsth': 1, 'dshard': 1, 'jed': 1, 'thehomless': 1, 'windshield': 1, 'share': 3, 'warmli': 1, 'halfway': 2, 'subsequ': 1, 'passeng': 1, 'accost': 1, 'screwi': 1, 'daylight': 1, 'save': 1, 'perman': 1, 'consistentcon': 1, 'caution': 1, 'msg': 1, 'rob': 1, 'harm': 1, 'pridemor': 1, 'sketchi': 1, 'randomli': 1, 'linger': 1, 'label': 1, 'ill': 1, 'fo': 1, 'tip': 3, 'cuisin': 1, 'hai': 1, 'religi': 1, 'pork': 1, 'remov': 2, 'vinyl': 1, 'badli': 2, 'dfw': 1, 'tradit': 2, 'gold': 1, 'butt': 2, 'hunt': 1, 'lodg': 1, 'plaid': 1, 'wallpap': 1, 'brass': 1, 'chandeli': 2, 'fixtur': 1, 'wood': 2, 'spoil': 2, 'protocol': 1, 'atmospher': 1, 'beltiln': 1, 'rd': 1, 'garland': 1, 'tx': 1, 'postsnonfast': 1, 'pargo': 1, 'clerk': 6, 'assur': 2, 'infact': 1, 'master': 1, 'success': 3, 'caffein': 1, 'awar': 1, 'concis': 1, 'packag': 3, 'slimi': 1, 'goup': 1, 'beneath': 1, 'fillet': 4, 'connoisseur': 1, 'yellow': 1, 'hispan': 1, 'screama': 1, 'wash': 2, 'mopi': 1, 'tpsbut': 1, 'bruuuutal': 1, 'report': 2, 'introduc': 1, 'gruel': 1, 'sensori': 1, 'yak': 2, 'cum': 1, 'thick': 1, 'ici': 1, 'march': 1, 'lineand': 1, 'ms': 1, 'ella': 1, 'gonzalez': 1, 'vault': 1, 'classi': 2, 'espresso': 1, 'richardson': 1, 'librari': 1, 'cheddar': 3, 'cheezwiz': 1, 'nontrivi': 1, 'ingressegress': 2, 'earth': 3, 'reiley': 1, 'parkercoit': 1, 'creekindepend': 1, 'areano': 1, 'piss': 2, 'bc': 3, 'wage': 4, 'goesth': 1, 'decor': 4, 'spaciou': 1, 'hdtv': 1, 'situat': 7, 'adjac': 1, 'soccer': 1, 'field': 1, 'gamesdo': 1, 'progress': 1, 'internet': 2, 'comput': 3, 'perspect': 1, 'suckedmi': 1, 'condition': 1, 'slump': 1, 'blare': 1, 'lifeth': 1, 'drivethrough': 2, 'wordlik': 1, 'addit': 6, 'emphas': 1, 'frankli': 1, 'honor': 1, 'complaini': 1, 'entitl': 1, 'moca': 1, 'rantl': 1, 'excit': 3, 'mama': 1, 'kang': 1, 'backhand': 1, 'chitti': 1, 'slap': 2, 'badg': 1, 'diffus': 1, 'snooti': 1, 'tongu': 1, 'cure': 1, 'awhilelik': 1, 'rage': 1, 'coit': 2, 'belt': 1, 'disappear': 1, 'minu': 2, 'overcharg': 2, 'cocacola': 1, 'ratio': 1, 'updat': 2, 'pool': 1, 'rack': 1, 'daddi': 1, 'nickel': 1, 'rap': 1, 'behind': 1, 'ownership': 2, 'uniqu': 1, 'notch': 2, 'batch': 1, 'yogurt': 3, 'jobon': 1, 'smirk': 1, 'ezra': 1, 'bin': 1, 'diseas': 1, 'poison': 2, 'depart': 3, 'jewel': 2, 'crown': 1, 'wilt': 1, 'dare': 3, 'shrivel': 1, 'dog': 1, 'hoard': 1, 'dole': 1, 'glower': 1, 'loiter': 5, 'bath': 1, 'downtown': 4, 'barter': 1, 'bottlecap': 1, 'grasp': 1, 'dammit': 1, 'packetsbut': 1, 'bulldoz': 1, 'restlet': 1, 'goplu': 1, 'mr': 1, 'exit': 10, 'seattl': 1, 'greatli': 1, 'goti': 1, 'quadrupl': 1, 'mayoport': 1, 'clog': 2, 'afternoonmi': 1, 'print': 1, 'feedback': 1, 'incid': 3, 'error': 2, 'sherwood': 3, 'fastfood': 3, 'moneyi': 1, 'cheeseburgerhow': 1, 'perw': 1, 'math': 1, 'receivedfri': 1, 'bagsdo': 1, 'commun': 4, 'dime': 1, 'glow': 2, 'k': 1, 'accommod': 1, 'temporari': 1, 'inther': 1, 'urg': 1, 'decis': 2, 'temperatur': 2, 'layer': 1, 'skin': 1, 'donedo': 1, 'crumbl': 1, 'crimin': 1, 'onionsi': 1, 'picklesgot': 1, 'careonli': 1, 'grace': 1, 'apologet': 1, 'ineptitud': 1, 'omg': 1, 'freshli': 3, 'australia': 1, 'rosco': 1, 'impresslook': 1, 'thursday': 1, 'hooker': 2, 'stark': 1, 'anyway': 1, 'youokay': 1, 'fangl': 1, 'docksid': 1, 'batter': 1, 'whiff': 1, 'stick': 1, 'sunris': 1, 'cloud': 1, 'mt': 1, 'cheer': 2, 'temperaturemi': 1, 'mediocr': 1, 'timewil': 1, 'yawn': 1, 'recycl': 2, 'diaper': 1, 'gangbang': 2, 'tpud': 1, 'picklessecond': 1, 'rulesif': 1, 'execut': 1, 'rightth': 1, 'dq': 1, 'boulevard': 1, 'hoursif': 1, 'pinch': 3, 'couv': 1, 'prefab': 1, 'postsenough': 1, 'documentari': 1, 'inc': 1, 'horrifi': 1, 'kfc': 1, 'wendi': 1, 'burgervil': 1, 'aftertast': 2, 'snake': 1, 'ed': 1, 'fay': 1, 'cleanemploye': 1, 'disrespectfulth': 1, 'foodthat': 1, 'instanceaft': 1, 'sneez': 1, 'cough': 1, 'ectwash': 1, 'preform': 1, 'godli': 1, 'practic': 1, 'sandwichsecond': 1, 'handler': 1, 'purs': 2, 'burgersr': 1, 'damag': 1, 'carrier': 1, 'postthey': 1, 'menuget': 1, 'buffalo': 2, 'hicken': 1, 'mmmmm': 1, 'bang': 3, 'visibl': 1, 'martha': 1, 'petti': 1, 'eww': 1, 'lil': 1, 'bro': 1, 'reliabl': 1, 'leftov': 1, 'ordersbut': 1, 'gee': 1, 'fianc': 2, 'bittera': 1, 'horriblefriendli': 1, 'placat': 2, 'ruin': 2, 'knowledg': 1, 'poststhen': 1, 'south': 2, 'dt': 1, 'banglor': 2, 'mainli': 3, 'suckso': 1, 'instruct': 2, 'default': 1, 'lettucei': 1, 'downi': 1, 'operatedisgust': 1, 'nasti': 3, 'teeni': 1, 'suprem': 1, 'mood': 3, 'lifebi': 1, 'anthoni': 1, 'gamezthi': 1, 'zax': 1, 'salsa': 3, 'citi': 4, 'interf': 1, 'prioriti': 1, 'impact': 1, 'backedit': 1, 'newli': 2, 'edibl': 1, 'eater': 1, 'silver': 1, 'giver': 1, 'discuss': 1, 'sayth': 1, 'quicker': 1, 'facil': 1, 'cute': 1, 'nurs': 1, 'defens': 1, 'confront': 1, 'murder': 1, 'menusspeak': 1, 'elsethen': 1, 'drinksi': 2, 'registergood': 1, 'tpeez': 1, 'gamei': 1, 'creativ': 1, 'greaseeveryon': 1, 'stress': 1, 'lovin': 1, 'rent': 1, 'platform': 1, 'tarter': 1, 'view': 1, 'deconstruct': 1, 'manner': 1, 'restaurantsth': 1, 'incommodiousor': 1, 'experienc': 3, 'relat': 1, 'locationgod': 1, 'funni': 2, 'mentioningi': 1, 'carb': 1, 'premad': 1, 'warmer': 1, 'intel': 1, 'hillsboro': 2, 'backth': 1, 'extens': 1, 'picki': 2, 'creamer': 1, 'st': 2, 'clump': 1, 'hairnet': 3, 'statement': 2, 'pierc': 1, 'sean': 1, 'smelli': 1, 'though': 1, 'downsid': 3, 'island': 1, 'prevent': 2, 'fantabul': 1, 'rain': 1, 'gentleman': 1, 'rudest': 1, 'monoton': 1, 'mouth': 1, 'educ': 1, 'untrain': 1, 'quater': 1, 'monday': 1, 'twitter': 1, 'follow': 3, 'facebook': 1, 'breweri': 1, 'limb': 1, 'loudli': 1, 'huff': 1, 'puff': 1, 'cicero': 1, 'roosevelt': 2, 'vile': 3, 'alik': 1, 'term': 2, 'filth': 2, 'vagranc': 1, 'customerr': 1, 'glad': 2, 'harass': 1, 'goofi': 2, 'hoodrat': 2, 'pluck': 1, 'snot': 1, 'multi': 1, 'dragon': 1, 'putrid': 1, 'crumb': 1, 'swept': 1, 'cheat': 2, 'unreason': 1, 'sail': 1, 'ship': 2, 'smoke': 1, 'hillsid': 1, 'stopgap': 1, 'listen': 2, 'thisif': 1, 'jk': 1, 'east': 3, 'wolf': 1, 'saint': 1, 'charl': 1, 'least': 2, 'qualifi': 1, 'categori': 1, 'shadi': 1, 'quicklyi': 1, 'volunt': 1, 'sausagei': 1, 'postsjust': 1, 'buscuit': 1, 'ketup': 1, 'peddler': 1, 'wallet': 2, 'coffeeterr': 1, 'bill': 3, 'deep': 1, 'bread': 2, 'midday': 1, 'funki': 1, 'coffeesa': 1, 'icecreami': 1, 'secur': 3, 'crowd': 2, 'dunnomayb': 1, 'chicknugget': 1, 'maxwel': 1, 'depot': 2, 'mehowev': 1, 'cpd': 1, 'hq': 1, 'refug': 2, 'safetythi': 1, 'friggin': 2, 'yo': 1, 'cheez': 1, 'foo': 2, 'dolla': 1, 'menunair': 1, 'cuz': 2, 'clueless': 2, 'mlk': 1, 'vulgar': 1, 'fellow': 2, 'worst': 1, 'orient': 1, 'elabor': 1, 'freshnessfoodwis': 1, 'wrongi': 1, 'scrape': 1, 'allerg': 1, 'rubberi': 2, 'thankyou': 1, 'dont': 1, 'tender': 1, 'burnp': 1, 'drivethrougheveri': 1, 'orderactu': 1, 'therejust': 1, 'hangout': 1, 'hideout': 1, 'twotwosecur': 1, 'patrol': 1, 'yelpersth': 1, 'ironi': 2, 'garden': 1, 'beforeunfortun': 1, 'chao': 3, 'delhi': 11, 'pd': 1, 'staf': 2, 'stab': 3, 'stranger': 1, 'alcohol': 1, 'hook': 1, 'prostitut': 1, 'gunpoint': 1, 'comfi': 1, 'chill': 1, 'therelastli': 1, 'tower': 2, 'anymorethey': 1, 'rememberit': 1, 'shelter': 1, 'racist': 2, 'bump': 1, 'smhthey': 1, 'guard': 2, 'idk': 1, 'tbhall': 1, 'starter': 1, 'restaurantmost': 1, 'backor': 1, 'placesecondli': 1, 'irk': 1, 'clurg': 1, 'crossroad': 1, 'commut': 1, 'subway': 1, 'result': 4, 'overwork': 2, 'dwell': 1, 'flaw': 1, 'waffl': 1, 'chickfil': 1, 'episod': 2, 'unruli': 1, 'op': 1, 'policemen': 1, 'nois': 1, 'badfory': 1, 'gloryi': 1, 'graduat': 1, 'loyola': 1, 'seek': 1, 'classroom': 1, 'devour': 1, 'goodsth': 1, 'assum': 2, 'lacklust': 1, 'antithesi': 1, 'covet': 1, 'frylast': 1, 'track': 2, 'mickeyd': 1, 'chi': 1, 'notta': 1, 'horriblerecommend': 1, 'herepeppermint': 1, 'ghastli': 1, 'wifidunkin': 1, 'threat': 1, 'drinker': 1, 'servicealso': 1, 'bagcount': 1, 'booooo': 1, 'til': 1, 'fair': 1, 'buuuuuut': 1, 'mob': 1, 'stationmi': 1, 'freshi': 1, 'busier': 1, 'goodand': 1, 'environ': 2, 'solv': 1, 'pandemonium': 1, 'herei': 1, 'priorityi': 1, 'cardin': 1, 'grant': 3, 'critiqu': 1, 'wildli': 1, 'moreov': 1, 'pigeon': 2, 'curs': 1, 'nastyass': 1, 'assault': 1, 'grope': 1, 'harassedin': 1, 'disclosur': 1, 'propel': 1, 'buddha': 1, 'belli': 1, 'forexcept': 1, 'safeti': 2, 'revolution': 1, 'paragon': 1, 'ingenu': 1, 'streamlin': 1, 'amazingli': 1, 'merit': 1, 'ittoday': 1, 'giant': 1, 'sane': 1, 'foursquar': 1, 'iota': 1, 'linei': 1, 'boil': 1, 'stuck': 1, 'foreverhav': 1, 'amus': 1, 'boat': 2, 'slam': 1, 'degener': 2, 'disgrac': 1, 'futil': 1, 'gentl': 1, 'clientel': 3, 'sheep': 1, 'regularpr': 1, 'versu': 1, 'megood': 1, 'derelict': 1, 'eccentr': 1, 'stump': 1, 'obscen': 1, 'rambl': 2, 'collect': 1, 'nutjob': 1, 'die': 3, 'postsactu': 1, 'monik': 1, 'poststru': 1, 'mint': 1, 'tourist': 1, 'counti': 1, 'duallan': 1, 'award': 1, 'root': 2, 'perplex': 1, 'pizza': 1, 'addison': 1, 'goodaverag': 1, 'goto': 1, 'hipster': 1, 'laissezfair': 1, 'samantha': 3, 'sea': 1, 'abras': 1, 'transluc': 1, 'film': 1, 'tsk': 1, 'packer': 1, 'gasp': 1, 'dirtyfood': 1, 'found': 1, 'barbecu': 1, 'memori': 2, 'clown': 1, 'demod': 1, 'scratch': 1, 'markedli': 1, 'lolsoooo': 1, 'expectingth': 1, 'junkiehomeless': 1, 'fantast': 3, 'jazz': 1, 'hip': 2, 'cosbysweat': 1, 'foodi': 2, 'worstth': 1, 'cramp': 1, 'lowspe': 1, 'crashon': 1, 'criminalth': 1, 'upand': 1, 'address': 2, 'someplac': 1, 'degre': 1, 'offend': 1, 'insult': 4, 'bone': 1, 'frequent': 1, 'tpuck': 1, 'dirtyand': 1, 'failur': 4, 'accuraci': 1, 'deesand': 1, 'conveenyenceshut': 1, 'spell': 1, 'itotherwis': 1, 'placeeverytim': 1, 'gettin': 1, 'sodait': 1, 'peak': 1, 'modernstylish': 1, 'union': 1, 'autom': 1, 'implement': 1, 'shuttl': 1, 'timesso': 1, 'systemthi': 1, 'dekalb': 1, 'busload': 1, 'wifiso': 1, 'innov': 1, 'alreadyi': 1, 'lotteri': 1, 'orderit': 1, 'rocket': 2, 'conquer': 1, 'postsi': 2, 'waiter': 1, 'hallmark': 1, 'valuabl': 1, 'stil': 1, 'gush': 1, 'blood': 1, 'maria': 1, 'ofici': 1, 'dm': 1, 'pleasei': 1, 'ith': 1, 'epic': 2, 'juan': 1, 'fitsyou': 1, 'brandon': 2, 'jiff': 1, 'tag': 1, 'tend': 1, 'drench': 1, 'thirst': 1, 'standardson': 1, 'setup': 1, 'mayonais': 1, 'eleph': 1, 'castl': 1, 'popey': 1, 'chicen': 1, 'knee': 1, 'fifteen': 1, 'sharpli': 1, 'elder': 1, 'jacket': 1, 'scarf': 2, 'aircondit': 2, 'viola': 1, 'goilng': 1, 'embarrass': 1, 'yahoo': 1, 'contend': 1, 'dream': 1, 'mill': 1, 'cluelessi': 1, 'outi': 1, 'caddi': 1, 'liar': 1, 'resel': 1, 'minuteshow': 1, 'dissolv': 1, 'somehowremind': 1, 'carton': 1, 'alma': 1, 'worldveri': 1, 'win': 2, 'juli': 2, 'swore': 1, 'pilsen': 1, 'foot': 1, 'ridiculousb': 1, 'loti': 1, 'neck': 2, 'hickey': 1, 'determin': 2, 'placey': 1, 'lotenjoy': 1, 'worthi': 3, 'backdrop': 1, 'imaginedlet': 1, 'bleak': 1, 'doom': 1, 'circumst': 1, 'abbrevi': 1, 'concept': 1, 'alltogeth': 1, 'server': 2, 'wrapper': 2, 'greas': 1, 'silenc': 1, 'generos': 1, 'diner': 2, 'headlight': 1, 'floresc': 1, 'restauranti': 1, 'ketchupfre': 1, 'ala': 1, 'textur': 1, 'lump': 1, 'throat': 1, 'fetch': 1, 'tablespil': 1, 'droplet': 1, 'dug': 2, 'sum': 1, 'upfri': 1, 'seafood': 1, 'palett': 1, 'comingl': 1, 'tempartur': 1, 'mechan': 1, 'contrapt': 1, 'wateri': 1, 'coffeeketchup': 1, 'ketchupcustom': 1, 'particip': 1, 'engulf': 1, 'extend': 1, 'somethingth': 1, 'peac': 1, 'herebut': 1, 'foodand': 1, 'rambuncti': 1, 'broodl': 1, 'hun': 1, 'specifi': 1, 'fluent': 1, 'nightooh': 1, 'nightso': 1, 'tightoooh': 1, 'itsweet': 1, 'fuce': 1, 'journey': 1, 'song': 3, 'youey': 1, 'kept': 1, 'barrier': 2, 'hotth': 1, 'lotthi': 1, 'ggrrr': 1, 'apartmentso': 1, 'smash': 1, 'van': 1, 'pole': 1, 'frogger': 1, 'frog': 1, 'organsif': 1, 'cord': 1, 'charad': 1, 'rightwhil': 1, 'ricki': 1, 'martin': 1, 'cd': 1, 'enriqu': 1, 'iglesia': 1, 'apparantli': 1, 'latin': 1, 'rebuilt': 1, 'moneymi': 1, 'configur': 1, 'avenu': 4, 'lowel': 3, 'kostner': 4, 'alley': 1, 'fenc': 1, 'dividedcurb': 1, 'thingi': 1, 'burritoi': 1, 'nuthinok': 1, 'mazebullshit': 1, 'revers': 1, 'rat': 1, 'ghettomaz': 1, 'muffinso': 1, 'madden': 1, 'kedzienorth': 1, 'lawsuit': 1, 'complic': 1, 'bilingu': 1, 'surgeri': 1, 'movement': 2, 'lead': 2, 'remark': 2, 'weightier': 1, 'encourag': 1, 'malaysia': 1, 'defici': 1, 'cookingprep': 1, 'fascist': 1, 'aros': 1, 'margin': 1, 'rennov': 1, 'prairi': 1, 'frank': 1, 'lloyd': 1, 'oak': 3, 'woodwork': 1, 'kroc': 2, 'founder': 2, 'parkthey': 1, 'scientist': 1, 'jackson': 1, 'almond': 1, 'basement': 1, 'resturaunt': 1, 'alarm': 1, 'familythey': 1, 'softserv': 1, 'cultur': 1, 'snackwrap': 1, 'slow': 1, 'jerk': 1, 'oakbrook': 2, 'headquart': 2, 'peoplegreat': 1, 'broken': 2, 'told': 1, 'polic': 1, 'danc': 1, 'swamp': 1, 'wipingmechanismi': 1, 'gent': 1, 'seal': 1, 'rebuild': 1, 'furtur': 1, 'tpsyou': 1, 'likey': 1, 'compet': 1, 'ajob': 1, 'perform': 3, 'depp': 1, 'tponaldland': 1, 'doover': 1, 'ordersi': 2, 'thumb': 1, 'hmm': 1, 'automat': 1, 'turnaround': 1, 'starhorr': 1, 'prob': 1, 'cooldur': 1, 'crunch': 1, 'windowtoday': 1, 'snippi': 1, 'togethergeesh': 1, 'supsect': 1, 'opposit': 1, 'brook': 1, 'grip': 1, 'retardli': 1, 'fella': 1, 'dawn': 1, 'condescend': 1, 'bt': 1, 'rge': 1, 'passabl': 1, 'gripe': 2, 'acquir': 1, 'grimmac': 1, 'arlington': 2, 'height': 1, 'mascot': 1, 'eas': 1, 'ambianc': 1, 'heaven': 1, 'promptbut': 1, 'finish': 1, 'carpet': 1, 'integrityi': 1, 'lessi': 1, 'honest': 2, 'dad': 1, 'occass': 1, 'qualm': 1, 'occur': 1, 'bud': 1, 'sata': 1, 'screenyet': 1, 'twa': 1, 'buddi': 1, 'feen': 1, 'blur': 1, 'themat': 1, 'dunde': 1, 'rand': 1, 'absurd': 1, 'workz': 1, 'rubblerubbl': 1, 'coincid': 1, 'sugari': 1, 'literari': 1, 'humanli': 1, 'discourt': 1, 'renown': 1, 'thee': 1, 'anywher': 1, 'footpath': 1, 'ol': 1, 'awkward': 1, 'neglig': 1, 'personnel': 1, 'pandora': 1, 'fighter': 1, 'goesi': 1, 'serviceor': 1, 'femal': 1, 'phoni': 1, 'fake': 1, 'plant': 1, 'proceed': 1, 'colleagu': 1, 'p': 1, 'fluster': 1, 'prep': 1, 'solon': 2, 'notsoshockingtwist': 1, 'sider': 1, 'trickl': 1, 'male': 2, 'guidanc': 1, 'locationth': 1, 'vera': 1, 'alertdo': 1, 'macedonia': 1, 'friesphew': 1, 'watersandwich': 1, 'freshhit': 1, 'ohio': 1, 'vey': 1, 'fester': 1, 'shithol': 1, 'reproduc': 1, 'enthusiast': 1, 'ralli': 2, 'tbell': 1, 'forgotten': 1, 'woo': 1, 'hooi': 1, 'sauceanyway': 1, 'laptop': 1, 'stat': 1, 'hotcakescheck': 1, 'downright': 2, 'countermass': 2, 'complaintsord': 2, 'timeif': 2, 'excruciatingli': 2, 'chatti': 2, 'oppos': 2, 'swelter': 2, 'therewond': 2, 'exaggerationdrivethru': 2, 'afterdrivethru': 2, 'expedit': 2, 'mimick': 2, 'injuri': 2, 'minor': 2, 'entre': 2, 'alumnu': 2, 'jo': 1, 'choir': 1, 'practicebot': 1, 'joedpow': 1, 'themi': 1, 'fuse': 1, 'blew': 1, 'carnegi': 1, 'hoarder': 1, 'problemsbut': 1, 'theyanyhow': 1, 'terminolog': 1, 'church': 1, 'serviceunfortun': 1, 'presum': 1, 'incomprehens': 1, 'buffoonsaft': 1, 'partial': 1, 'void': 1, 'barbequewhi': 1, 'quiet': 1, 'impair': 1, 'present': 1, 'wave': 1, 'friesseri': 1, 'flippin': 1, 'interventionand': 1, 'hr': 1, 'forecast': 1, 'beach': 1, 'timesunless': 1, 'routin': 1, 'driverthru': 1, 'foodth': 1, 'endur': 1, 'ocass': 1, 'snail': 1, 'pacei': 1, 'sumitup': 1, 'anomoli': 1, 'hoursnorth': 1, 'neon': 1, 'thingthey': 1, 'forward': 1, 'total': 1, 'ooooh': 1, 'somebodymayb': 1, 'powder': 1, 'downseri': 1, 'outdoor': 2, 'conclus': 1, 'reorient': 1, 'driveway': 1, 'doubledrivewayi': 1, 'ghettotalk': 1, 'registerr': 1, 'monkey': 1, 'mei': 1, 'schooler': 2, 'texa': 1, 'noon': 1, 'pssh': 1, 'sam': 1, 'fannin': 1, 'dirtiest': 1, 'filthiest': 1, 'yr': 1, 'boycott': 1, 'servicefood': 1, 'allbut': 1, 'ward': 1, 'trail': 1, 'precisestay': 1, 'ordinari': 1, 'averageexactli': 1, 'onunless': 1, 'content': 1, 'workplac': 1, 'truethey': 1, 'record': 1, 'fishfilet': 1, 'neuron': 1, 'bridgeland': 1, 'cyrpess': 1, 'ridiculousi': 1, 'gogurt': 1, 'deadey': 1, 'goofbal': 1, 'selfentitl': 1, 'whataburg': 1}\n"
     ]
    }
   ],
   "source": [
    "#function to get the frequency count of the nouns\n",
    "freqdict = {}\n",
    "def calculate_mostFrequent(s):\n",
    "    for word in s:\n",
    "        if word in freqdict:\n",
    "            freqdict[word] = freqdict[word] + 1\n",
    "        else:\n",
    "            freqdict[word] = 1\n",
    "\n",
    "for col in df['TopNouns']:\n",
    "    calculate_mostFrequent(col)\n",
    "\n",
    "print(freqdict)"
   ]
  },
  {
   "cell_type": "code",
   "execution_count": 34,
   "metadata": {},
   "outputs": [
    {
     "name": "stdout",
     "output_type": "stream",
     "text": [
      "{'post': 877, 'order': 845, 'tea': 826, 'food': 564, 'time': 459, 'place': 320, 'locat': 237, 'drive': 234, 'thru': 193, 'tp': 183, 'work': 179, 'wait': 178, 'custom': 175, 'servic': 159, 'manag': 159}\n"
     ]
    }
   ],
   "source": [
    "sorted_dict = sorted(freqdict.items(), key=lambda x: x[1], reverse=True)\n",
    "#print(sorted_dict)\n",
    "\n",
    "top_fifteen_dict = {}\n",
    "count=1\n",
    "for i,j in sorted_dict:\n",
    "    if count > 15:\n",
    "        break\n",
    "    \n",
    "    top_fifteen_dict[i] = j\n",
    "    count=count+1\n",
    "\n",
    "print(top_fifteen_dict)"
   ]
  },
  {
   "cell_type": "code",
   "execution_count": 35,
   "metadata": {},
   "outputs": [
    {
     "data": {
      "image/png": "[encoded data removed]",
      "text/plain": [
       "<Figure size 1080x1080 with 1 Axes>"
      ]
     },
     "metadata": {
      "needs_background": "light"
     },
     "output_type": "display_data"
    }
   ],
   "source": [
    "#plotting the top most extracted nouns\n",
    "data = top_fifteen_dict\n",
    "x = list(data.keys())\n",
    "y = list(data.values())\n",
    "\n",
    "fig = plt.figure(figsize = (15, 15))\n",
    "plt.bar(x,y)\n",
    "plt.title(\"Most Frequent Words\") \n",
    "plt.show() "
   ]
  },
  {
   "cell_type": "code",
   "execution_count": 36,
   "metadata": {},
   "outputs": [],
   "source": [
    "for index, row in df.iterrows():\n",
    "    df.at[index , 'TopNouns'] = \" \".join(row['TopNouns'])\n",
    "\n",
    "for index, row in test.iterrows():\n",
    "    test.at[index , 'TopNouns'] = \" \".join(row['TopNouns']) "
   ]
  },
  {
   "cell_type": "code",
   "execution_count": 37,
   "metadata": {},
   "outputs": [],
   "source": [
    "import sklearn\n",
    "from sklearn.feature_extraction.text import CountVectorizer\n",
    "cv=CountVectorizer(max_df=0.8,stop_words=stop_words, max_features=10000, ngram_range=(1,5))\n",
    "X_train=cv.fit_transform(df['TopNouns'])\n",
    "\n",
    "cv=CountVectorizer(max_df=0.8,stop_words=stop_words, max_features=10000, ngram_range=(1,5))\n",
    "X_test=cv.fit_transform(test['TopNouns'])"
   ]
  },
  {
   "cell_type": "code",
   "execution_count": 38,
   "metadata": {},
   "outputs": [],
   "source": [
    "df['final'] = df['Sentiment_Target'].map({'Positive': 1, 'Negative': -1, 'Neutral': 0})\n",
    "test['final'] = test['Target_Class'].map({'Positive': 1, 'Negative': -1, 'Neutral': 0})\n",
    "y_train = df['final']\n",
    "y_test = test['final']"
   ]
  },
  {
   "cell_type": "code",
   "execution_count": 41,
   "metadata": {},
   "outputs": [
    {
     "name": "stdout",
     "output_type": "stream",
     "text": [
      "              precision    recall  f1-score   support\n",
      "\n",
      "          -1       0.62      0.16      0.25       258\n",
      "           0       0.13      0.32      0.19        60\n",
      "           1       0.24      0.51      0.32        96\n",
      "\n",
      "   micro avg       0.26      0.26      0.26       414\n",
      "   macro avg       0.33      0.33      0.25       414\n",
      "weighted avg       0.46      0.26      0.26       414\n",
      "\n"
     ]
    }
   ],
   "source": [
    "#prediction using multinomial naive bais classifier\n",
    "from sklearn.naive_bayes import MultinomialNB\n",
    "from sklearn.metrics import classification_report\n",
    "from sklearn.linear_model import LogisticRegression\n",
    "#from sklearn.naive_bayes import GaussianNB\n",
    "classi = MultinomialNB()\n",
    "classi.fit(X_train,y_train)\n",
    "classi.score(X_test,y_test)\n",
    "y_pred = classi.predict(X_test)\n",
    "print(classification_report(y_test, y_pred))"
   ]
  },
  {
   "cell_type": "code",
   "execution_count": 48,
   "metadata": {},
   "outputs": [
    {
     "name": "stdout",
     "output_type": "stream",
     "text": [
      "Accuracy C=0.01: 0.6231884057971014\n",
      "Accuracy C=0.05: 0.6159420289855072\n",
      "Accuracy C=0.25: 0.5603864734299517\n",
      "Accuracy C=0.5: 0.5458937198067633\n",
      "Accuracy C=1: 0.5217391304347826\n"
     ]
    }
   ],
   "source": [
    "#finding the accuracy\n",
    "for c in [0.01, 0.05, 0.25, 0.5, 1]:\n",
    "    \n",
    "    lr = LogisticRegression(C=c)\n",
    "    lr.fit(X_train, y_train)\n",
    "    print (\"Accuracy C=%s: %s\" \n",
    "           % (c, accuracy_score(y_test, lr.predict(X_test))))"
   ]
  },
  {
   "cell_type": "code",
   "execution_count": null,
   "metadata": {},
   "outputs": [],
   "source": []
  }
 ],
 "metadata": {
  "celltoolbar": "Tags",
  "kernelspec": {
   "display_name": "Python 3",
   "language": "python",
   "name": "python3"
  },
  "language_info": {
   "codemirror_mode": {
    "name": "ipython",
    "version": 3
   },
   "file_extension": ".py",
   "mimetype": "text/x-python",
   "name": "python",
   "nbconvert_exporter": "python",
   "pygments_lexer": "ipython3",
   "version": "3.7.1"
  }
 },
 "nbformat": 4,
 "nbformat_minor": 2
}
